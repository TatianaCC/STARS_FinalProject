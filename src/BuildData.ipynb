{
 "cells": [
  {
   "cell_type": "code",
   "execution_count": 2,
   "metadata": {},
   "outputs": [],
   "source": [
    "import pandas as pd\n",
    "from edastatmil_milser import edas_tatmil as EDA"
   ]
  },
  {
   "cell_type": "markdown",
   "metadata": {},
   "source": [
    "## 1. Stars sample preview"
   ]
  },
  {
   "cell_type": "code",
   "execution_count": 3,
   "metadata": {},
   "outputs": [
    {
     "data": {
      "text/html": [
       "<div>\n",
       "<style scoped>\n",
       "    .dataframe tbody tr th:only-of-type {\n",
       "        vertical-align: middle;\n",
       "    }\n",
       "\n",
       "    .dataframe tbody tr th {\n",
       "        vertical-align: top;\n",
       "    }\n",
       "\n",
       "    .dataframe thead th {\n",
       "        text-align: right;\n",
       "    }\n",
       "</style>\n",
       "<table border=\"1\" class=\"dataframe\">\n",
       "  <thead>\n",
       "    <tr style=\"text-align: right;\">\n",
       "      <th></th>\n",
       "      <th>_Glon</th>\n",
       "      <th>_Glat</th>\n",
       "      <th>_RAJ2000</th>\n",
       "      <th>_DEJ2000</th>\n",
       "      <th>Cluster</th>\n",
       "    </tr>\n",
       "  </thead>\n",
       "  <tbody>\n",
       "    <tr>\n",
       "      <th>0</th>\n",
       "      <td>136.163369</td>\n",
       "      <td>-23.291857</td>\n",
       "      <td>28.329417</td>\n",
       "      <td>37.984833</td>\n",
       "      <td>Mel12</td>\n",
       "    </tr>\n",
       "    <tr>\n",
       "      <th>1</th>\n",
       "      <td>136.390938</td>\n",
       "      <td>-23.836403</td>\n",
       "      <td>28.405333</td>\n",
       "      <td>37.404806</td>\n",
       "      <td>Mel12</td>\n",
       "    </tr>\n",
       "    <tr>\n",
       "      <th>2</th>\n",
       "      <td>136.386537</td>\n",
       "      <td>-23.211326</td>\n",
       "      <td>28.607250</td>\n",
       "      <td>38.009139</td>\n",
       "      <td>Mel12</td>\n",
       "    </tr>\n",
       "    <tr>\n",
       "      <th>3</th>\n",
       "      <td>136.553405</td>\n",
       "      <td>-23.705483</td>\n",
       "      <td>28.629333</td>\n",
       "      <td>37.492111</td>\n",
       "      <td>Mel12</td>\n",
       "    </tr>\n",
       "    <tr>\n",
       "      <th>4</th>\n",
       "      <td>136.587727</td>\n",
       "      <td>-23.750297</td>\n",
       "      <td>28.652583</td>\n",
       "      <td>37.440583</td>\n",
       "      <td>Mel12</td>\n",
       "    </tr>\n",
       "  </tbody>\n",
       "</table>\n",
       "</div>"
      ],
      "text/plain": [
       "        _Glon      _Glat   _RAJ2000   _DEJ2000 Cluster\n",
       "0  136.163369 -23.291857  28.329417  37.984833   Mel12\n",
       "1  136.390938 -23.836403  28.405333  37.404806   Mel12\n",
       "2  136.386537 -23.211326  28.607250  38.009139   Mel12\n",
       "3  136.553405 -23.705483  28.629333  37.492111   Mel12\n",
       "4  136.587727 -23.750297  28.652583  37.440583   Mel12"
      ]
     },
     "execution_count": 3,
     "metadata": {},
     "output_type": "execute_result"
    }
   ],
   "source": [
    "df = pd.read_csv('../Samples/Clusters.csv')\n",
    "df.head()"
   ]
  },
  {
   "cell_type": "code",
   "execution_count": 4,
   "metadata": {},
   "outputs": [
    {
     "data": {
      "text/plain": [
       "(992227, 5)"
      ]
     },
     "execution_count": 4,
     "metadata": {},
     "output_type": "execute_result"
    }
   ],
   "source": [
    "df.shape"
   ]
  },
  {
   "cell_type": "markdown",
   "metadata": {},
   "source": [
    "Obtenemos una lista de los numbres de los clusters incluidos en el stars sample"
   ]
  },
  {
   "cell_type": "code",
   "execution_count": 5,
   "metadata": {},
   "outputs": [
    {
     "data": {
      "text/plain": [
       "array(['Mel12', 'Mel25', 'NGC 2632', 'NGC 2168', 'NGC 2099', 'NGC 1746',\n",
       "       'NGC 1039', 'NGC 1647', 'NGC 2183', 'NGC 1912', 'NGC 2281',\n",
       "       'NGC 2420', 'NGC 2158', 'NGC 869', 'NGC 1662', 'Basel 11B',\n",
       "       'NGC 1528', 'NGC 2252', 'Basel 4', 'NGC 1960', 'NGC 6205',\n",
       "       'Waterloo 2', 'NGC 6819', 'NGC 5272', 'Berkeley 71', 'Berkeley 32',\n",
       "       'Berkeley 17', 'Berkeley 29', 'Berkeley 53', 'Berkeley 66',\n",
       "       'FSR 0494', 'IC 166', 'King 5', 'King 7', 'M 107', 'M 13', 'M 15',\n",
       "       'M 2', 'M 3', 'M 35', 'M 5', 'M 53', 'M 67', 'M 71', 'M 92',\n",
       "       'NGC 1245', 'NGC 1798', 'NGC 188', 'NGC 2243', 'NGC 2682',\n",
       "       'NGC 4147', 'NGC 5466', 'NGC 6791', 'NGC 6811', 'NGC 7789',\n",
       "       'Pleiades', 'Teutsch 51', 'Mel13', 'Mel14', 'NGC 2532', 'IC 2395',\n",
       "       'NGC 2808', 'NGC 0104', 'NGC 1904', 'NGC 1851', 'NGC 6266',\n",
       "       'NGC 5139', 'NGC 3201', 'NGC 0362', 'NGC 5286', 'NGC 6218',\n",
       "       'NGC 5904', 'NGC 6093', 'NGC 6254', 'NGC 6293', 'NGC 6388',\n",
       "       'NGC 6522', 'NGC 6441', 'NGC 6541', 'NGC 6624', 'NGC 7078',\n",
       "       'NGC 6656', 'NGC 6681', 'NGC 6752', 'NGC 7089', 'NGC 7099',\n",
       "       'Berkeley 86', 'IC 1805', 'IC 2944', 'NGC 457', 'NGC 884',\n",
       "       'NGC 1502', 'NGC 2244', 'NGC 2362', 'NGC 2384', 'NGC 2422',\n",
       "       'NGC 2467', 'NGC 3293', 'NGC 4755', 'NGC 6193', 'NGC 7160',\n",
       "       'Trumpler 14', 'CR 228', 'Trumpler 16', 'NGC1261', 'NGC3201',\n",
       "       'NGC6139', 'NGC6205', 'NGC6362', 'NGC6397', 'NGC6712', '  Pal13'],\n",
       "      dtype=object)"
      ]
     },
     "execution_count": 5,
     "metadata": {},
     "output_type": "execute_result"
    }
   ],
   "source": [
    "actual_name = df['Cluster'].unique()\n",
    "actual_name"
   ]
  },
  {
   "cell_type": "markdown",
   "metadata": {},
   "source": [
    "Hay que comprobar que no tenemos el mismo cluster nombrado de dos formas diferentes. Para ello:\n",
    "1. Vamos a hacer un dataframe con los diferentes nombres de los clusters los diferentes catálogos posibles.\n",
    "2. Escogeremos el catálogo con el que vamos a trabajar para tener todos los cluster identificados bajo un mismo criterio.\n",
    "3. Renombraremos los clusters con el nombre escogido."
   ]
  },
  {
   "cell_type": "markdown",
   "metadata": {},
   "source": [
    "### 1.1 Rename clusters\n",
    "Se hace una lista para los nombres en cada catalogo, basada en la lista de nombres de clusters obtenida del stars sample. Si un nombre de la lista inicial no está en algún catálogo, agregamos None."
   ]
  },
  {
   "cell_type": "code",
   "execution_count": 6,
   "metadata": {},
   "outputs": [],
   "source": [
    "NGC_names = ['NGC 752', None, 'NGC 2632', 'NGC 2168', 'NGC 2099', 'NGC 1746', 'NGC 1039','NGC 1647','NGC 2183','NGC 1912', 'NGC 2281', 'NGC 2420', 'NGC 2158','NGC 869','NGC 1662', None,'NGC 1528','NGC 2252', None,'NGC 1960', 'NGC 6205', None, 'NGC 6819','NGC 5272', None, None, None, None, None, None, None, None, None, None, 'NGC 6171', 'NGC 6205','NGC 7078', 'NGC 7089', 'NGC 5272',' NGC 2168', 'NGC 5904','NGC 5024','NGC 2682','NGC 6838','NGC 6341','NGC 5145','NGC 1798','NGC 188','NGC 2243','NGC 2682','NGC 4147','NGC 5466','NGC 6791','NGC 6811','NGC 7789', None, None,'NGC 869', 'NGC 884','NGC 2532', None, 'NGC 2808','NGC 0104','NGC 1904','NGC 1851','NGC 6266', 'NGC 5139','NGC 3201','NGC 0362','NGC 5286', 'NGC 6218', 'NGC 5904', 'NGC 6093', 'NGC 6254', 'NGC 6293', 'NGC 6388','NGC 6522', 'NGC 6441', 'NGC 6541','NGC 6624','NGC 7078','NGC 6656','NGC 6681','NGC 6752','NGC 7089','NGC 7099', None, None, None,'NGC 457','NGC 884','NGC 1502','NGC 2244', 'NGC 2362','NGC 2384','NGC 2422','NGC 2467','NGC 3293','NGC 4755','NGC 6193','NGC 7160', None, None, None,'NGC 1261','NGC 3201','NGC 6139','NGC 6205','NGC 6362','NGC 6397','NGC 6712', None]\n",
    "Mel_names = ['Mel 12', 'Mel 25', 'Mel 88', None, None, None, None, None, None, None, None, 'Mel 69', 'Mel 40', 'Mel 13', None, None, None, None, None, None, None, None, 'Mel 223', 'Mel 119', None, None, None, None, None, None, None, None, None, None, None, None, None, None, None, None, None, None, None, None, None, 'Mel 18', None, 'Mel 2','Mel 46', None, None, None, None, 'Mel 222', 'Mel 245', 'Mel 22', None, 'Mel 13', 'Mel 14', None, None, None, 'Mel 1', None, None, None, None, None, 'Mel 4', None, None, None, None, None, None, None, None, None, None, None, None, None, None, None, None, None, None, 'Mel 15', None, None, 'Mel 14', None, None, None, None, None, None,'Mel 100','Mel 144', None, None, None, None, None, None, None, None, None, None, None, None, None]\n",
    "M_names = [None, None, 'M 44', 'M 35', 'M 37', None, 'M 34',None, None, 'M 38', None, None, None, None, None, None, None, None, None, 'M 36', 'M 13', None, None, 'M 3', None, None, None, None, None, None, None, None, None, None, 'M 107', 'M 13','M 15','M 2', 'M 3','M 35','M 5', 'M 53', 'M 67', 'M 71', 'M 92', None, None, None, None, 'M 67', None, None, None, None, None,'M 45', None, None, None, None, None, None, None, 'M 79', None, 'M 62', None, None, None, None, 'M 12', 'M 5', 'M 80', 'M 10', None, None, None, None, None, None,'M 15', 'M 22','M 70', None,'M 2','M 30', None, None, None, None, None, None, None, None, None, 'M 47', None, None, None, None, None, None, None, None, None, None, None, 'M 13', None, None, None, None]\n",
    "Common_name = [None, 'Hiades', 'Beehive', None, None, None, None, None, None, None, None, None, None, 'H Persei', None, 'Basel 11b', None, None, None, None,'Hercules', None, 'Foxhead', None, None, None, None, None, None, None, None, None, None, None, None, 'Hercules', None, None, None, None, None, None, None, None, None, None, None, None, None, None, None, None, None, None, None, 'Pleiades', None, 'H Persei', 'Chi Persei', None, None, None, '47 Tuc', None, None, None, 'Ome Cen', None, None, None, None, None, None, None, None, None, None, None, None, None, None, None, None, None, None, None, None, 'AFGL 333', 'lam Cen','ET','Chi Persei', None, None, 'Tau CMa', None, None, None, None,'Jewel Box', None, None, None, None, None, None, None, None,'Hercules', None, None, None, None]"
   ]
  },
  {
   "cell_type": "markdown",
   "metadata": {},
   "source": [
    "Comprobamos que la longitud de todas las listas es la misma, de forma que no nos hemos equivocado. Si todo está bien, construimos el dataframe de la tabla de equivalencia de nombres."
   ]
  },
  {
   "cell_type": "code",
   "execution_count": 7,
   "metadata": {},
   "outputs": [
    {
     "name": "stdout",
     "output_type": "stream",
     "text": [
      "112\n",
      "112\n",
      "112\n",
      "112\n",
      "112\n"
     ]
    }
   ],
   "source": [
    "print(len(actual_name))\n",
    "print(len(NGC_names))\n",
    "print(len(Mel_names))\n",
    "print(len(M_names))\n",
    "print(len(Common_name))"
   ]
  },
  {
   "cell_type": "code",
   "execution_count": 8,
   "metadata": {},
   "outputs": [
    {
     "data": {
      "text/html": [
       "<div>\n",
       "<style scoped>\n",
       "    .dataframe tbody tr th:only-of-type {\n",
       "        vertical-align: middle;\n",
       "    }\n",
       "\n",
       "    .dataframe tbody tr th {\n",
       "        vertical-align: top;\n",
       "    }\n",
       "\n",
       "    .dataframe thead th {\n",
       "        text-align: right;\n",
       "    }\n",
       "</style>\n",
       "<table border=\"1\" class=\"dataframe\">\n",
       "  <thead>\n",
       "    <tr style=\"text-align: right;\">\n",
       "      <th></th>\n",
       "      <th>Actual Names</th>\n",
       "      <th>NGC_names</th>\n",
       "      <th>Mel_names</th>\n",
       "      <th>M_names</th>\n",
       "      <th>Common_name</th>\n",
       "    </tr>\n",
       "  </thead>\n",
       "  <tbody>\n",
       "    <tr>\n",
       "      <th>0</th>\n",
       "      <td>Mel12</td>\n",
       "      <td>NGC 752</td>\n",
       "      <td>Mel 12</td>\n",
       "      <td>None</td>\n",
       "      <td>None</td>\n",
       "    </tr>\n",
       "    <tr>\n",
       "      <th>1</th>\n",
       "      <td>Mel25</td>\n",
       "      <td>None</td>\n",
       "      <td>Mel 25</td>\n",
       "      <td>None</td>\n",
       "      <td>Hiades</td>\n",
       "    </tr>\n",
       "    <tr>\n",
       "      <th>2</th>\n",
       "      <td>NGC 2632</td>\n",
       "      <td>NGC 2632</td>\n",
       "      <td>Mel 88</td>\n",
       "      <td>M 44</td>\n",
       "      <td>Beehive</td>\n",
       "    </tr>\n",
       "    <tr>\n",
       "      <th>3</th>\n",
       "      <td>NGC 2168</td>\n",
       "      <td>NGC 2168</td>\n",
       "      <td>None</td>\n",
       "      <td>M 35</td>\n",
       "      <td>None</td>\n",
       "    </tr>\n",
       "    <tr>\n",
       "      <th>4</th>\n",
       "      <td>NGC 2099</td>\n",
       "      <td>NGC 2099</td>\n",
       "      <td>None</td>\n",
       "      <td>M 37</td>\n",
       "      <td>None</td>\n",
       "    </tr>\n",
       "    <tr>\n",
       "      <th>...</th>\n",
       "      <td>...</td>\n",
       "      <td>...</td>\n",
       "      <td>...</td>\n",
       "      <td>...</td>\n",
       "      <td>...</td>\n",
       "    </tr>\n",
       "    <tr>\n",
       "      <th>107</th>\n",
       "      <td>NGC6205</td>\n",
       "      <td>NGC 6205</td>\n",
       "      <td>None</td>\n",
       "      <td>M 13</td>\n",
       "      <td>Hercules</td>\n",
       "    </tr>\n",
       "    <tr>\n",
       "      <th>108</th>\n",
       "      <td>NGC6362</td>\n",
       "      <td>NGC 6362</td>\n",
       "      <td>None</td>\n",
       "      <td>None</td>\n",
       "      <td>None</td>\n",
       "    </tr>\n",
       "    <tr>\n",
       "      <th>109</th>\n",
       "      <td>NGC6397</td>\n",
       "      <td>NGC 6397</td>\n",
       "      <td>None</td>\n",
       "      <td>None</td>\n",
       "      <td>None</td>\n",
       "    </tr>\n",
       "    <tr>\n",
       "      <th>110</th>\n",
       "      <td>NGC6712</td>\n",
       "      <td>NGC 6712</td>\n",
       "      <td>None</td>\n",
       "      <td>None</td>\n",
       "      <td>None</td>\n",
       "    </tr>\n",
       "    <tr>\n",
       "      <th>111</th>\n",
       "      <td>Pal13</td>\n",
       "      <td>None</td>\n",
       "      <td>None</td>\n",
       "      <td>None</td>\n",
       "      <td>None</td>\n",
       "    </tr>\n",
       "  </tbody>\n",
       "</table>\n",
       "<p>112 rows × 5 columns</p>\n",
       "</div>"
      ],
      "text/plain": [
       "    Actual Names NGC_names Mel_names M_names Common_name\n",
       "0          Mel12   NGC 752    Mel 12    None        None\n",
       "1          Mel25      None    Mel 25    None      Hiades\n",
       "2       NGC 2632  NGC 2632    Mel 88    M 44     Beehive\n",
       "3       NGC 2168  NGC 2168      None    M 35        None\n",
       "4       NGC 2099  NGC 2099      None    M 37        None\n",
       "..           ...       ...       ...     ...         ...\n",
       "107      NGC6205  NGC 6205      None    M 13    Hercules\n",
       "108      NGC6362  NGC 6362      None    None        None\n",
       "109      NGC6397  NGC 6397      None    None        None\n",
       "110      NGC6712  NGC 6712      None    None        None\n",
       "111        Pal13      None      None    None        None\n",
       "\n",
       "[112 rows x 5 columns]"
      ]
     },
     "execution_count": 8,
     "metadata": {},
     "output_type": "execute_result"
    }
   ],
   "source": [
    "clusters_names = pd.DataFrame(actual_name, columns=['Actual Names'])\n",
    "clusters_names['NGC_names'] = NGC_names\n",
    "clusters_names['Mel_names'] = Mel_names\n",
    "clusters_names['M_names'] = M_names\n",
    "clusters_names['Common_name'] = Common_name\n",
    "clusters_names"
   ]
  },
  {
   "cell_type": "markdown",
   "metadata": {},
   "source": [
    "Eliminamos las filas repetidas usando la columna NGC_names, ya que es donde más nombres encontramos. Hay que tener en cuenta que no se aplique la eliminación de duplicados a las filas donde NGC_names sea None"
   ]
  },
  {
   "cell_type": "code",
   "execution_count": 10,
   "metadata": {},
   "outputs": [
    {
     "name": "stderr",
     "output_type": "stream",
     "text": [
      "/tmp/ipykernel_11298/1542950378.py:1: DeprecationWarning: DataFrameGroupBy.apply operated on the grouping columns. This behavior is deprecated, and in a future version of pandas the grouping columns will be excluded from the operation. Either pass `include_groups=False` to exclude the groupings or explicitly select the grouping columns after groupby to silence this warning.\n",
      "  Name_equival = clusters_names.groupby('NGC_names').apply(lambda x: x.drop_duplicates(subset=['NGC_names']) if x['NGC_names'].notnull().all() else x)\n"
     ]
    }
   ],
   "source": [
    "Name_equival = clusters_names.groupby('NGC_names').apply(lambda x: x.drop_duplicates(subset=['NGC_names']) if x['NGC_names'].notnull().all() else x)"
   ]
  },
  {
   "cell_type": "code",
   "execution_count": 11,
   "metadata": {},
   "outputs": [],
   "source": [
    "Name_equival.to_csv('../Samples/NamesCatalogEquivalence.csv')"
   ]
  },
  {
   "cell_type": "markdown",
   "metadata": {},
   "source": [
    "Trabajaremos siempre que sea posible con el NGC_name. En los casos en los que no tenemos NGC_name, se trabajará con el Actual Name.Entonces:\n",
    "1. Tanto en la columna Cluster del dataset como en las columnas de la tabla clusters_names, eliminaremos los espacios.\n",
    "2. Recorremos el dataset de estrellas y allá donde la columna Cluster no tiene el nombre NGC, lo tomaremos de la tabla de equivalencia de nombres y lo sustituiremos. Si no hay un nombre NGC, dejamos el que está."
   ]
  },
  {
   "cell_type": "code",
   "execution_count": 12,
   "metadata": {},
   "outputs": [],
   "source": [
    "cluster_cols = Name_equival.columns.tolist()\n",
    "for col in cluster_cols:\n",
    "    Name_equival[col] = Name_equival[col].str.replace(r'\\s+', '', regex=True).str.strip()\n",
    "\n",
    "\n",
    "df['Cluster'] = df['Cluster'].str.replace(r'\\s+', '', regex=True).str.strip()"
   ]
  },
  {
   "cell_type": "code",
   "execution_count": 13,
   "metadata": {},
   "outputs": [],
   "source": [
    "def rename(name):\n",
    "    if 'NGC' in name:\n",
    "        return name\n",
    "    else:\n",
    "        row = clusters_names.index[clusters_names['Actual Names'] == name]\n",
    "        if not row.empty and clusters_names.at[row[0], 'NGC_names'] is not None:\n",
    "            return clusters_names.at[row[0], 'NGC_names']\n",
    "        else:\n",
    "            return name\n",
    "\n",
    "df['Cluster'] = df['Cluster'].apply(rename)"
   ]
  },
  {
   "cell_type": "markdown",
   "metadata": {},
   "source": [
    "Además, buscando en bases de datos los nombres de los clusters, hemos visto que los clusters FSR 0494 y CR 228 no existen como clusters oficiales, así que eliminaremos las filas correspondientes a estos clusters del dataset."
   ]
  },
  {
   "cell_type": "code",
   "execution_count": 14,
   "metadata": {},
   "outputs": [],
   "source": [
    "nonfinderdlusters = ['FSR0494','CR228']\n",
    "df = df[~df['Cluster'].isin(nonfinderdlusters)]"
   ]
  },
  {
   "cell_type": "code",
   "execution_count": 15,
   "metadata": {},
   "outputs": [
    {
     "data": {
      "text/html": [
       "<div>\n",
       "<style scoped>\n",
       "    .dataframe tbody tr th:only-of-type {\n",
       "        vertical-align: middle;\n",
       "    }\n",
       "\n",
       "    .dataframe tbody tr th {\n",
       "        vertical-align: top;\n",
       "    }\n",
       "\n",
       "    .dataframe thead th {\n",
       "        text-align: right;\n",
       "    }\n",
       "</style>\n",
       "<table border=\"1\" class=\"dataframe\">\n",
       "  <thead>\n",
       "    <tr style=\"text-align: right;\">\n",
       "      <th></th>\n",
       "      <th>_Glon</th>\n",
       "      <th>_Glat</th>\n",
       "      <th>_RAJ2000</th>\n",
       "      <th>_DEJ2000</th>\n",
       "      <th>Cluster</th>\n",
       "    </tr>\n",
       "  </thead>\n",
       "  <tbody>\n",
       "    <tr>\n",
       "      <th>0</th>\n",
       "      <td>136.163369</td>\n",
       "      <td>-23.291857</td>\n",
       "      <td>28.329417</td>\n",
       "      <td>37.984833</td>\n",
       "      <td>NGC 752</td>\n",
       "    </tr>\n",
       "    <tr>\n",
       "      <th>1</th>\n",
       "      <td>136.390938</td>\n",
       "      <td>-23.836403</td>\n",
       "      <td>28.405333</td>\n",
       "      <td>37.404806</td>\n",
       "      <td>NGC 752</td>\n",
       "    </tr>\n",
       "    <tr>\n",
       "      <th>2</th>\n",
       "      <td>136.386537</td>\n",
       "      <td>-23.211326</td>\n",
       "      <td>28.607250</td>\n",
       "      <td>38.009139</td>\n",
       "      <td>NGC 752</td>\n",
       "    </tr>\n",
       "    <tr>\n",
       "      <th>3</th>\n",
       "      <td>136.553405</td>\n",
       "      <td>-23.705483</td>\n",
       "      <td>28.629333</td>\n",
       "      <td>37.492111</td>\n",
       "      <td>NGC 752</td>\n",
       "    </tr>\n",
       "    <tr>\n",
       "      <th>4</th>\n",
       "      <td>136.587727</td>\n",
       "      <td>-23.750297</td>\n",
       "      <td>28.652583</td>\n",
       "      <td>37.440583</td>\n",
       "      <td>NGC 752</td>\n",
       "    </tr>\n",
       "    <tr>\n",
       "      <th>...</th>\n",
       "      <td>...</td>\n",
       "      <td>...</td>\n",
       "      <td>...</td>\n",
       "      <td>...</td>\n",
       "      <td>...</td>\n",
       "    </tr>\n",
       "    <tr>\n",
       "      <th>992222</th>\n",
       "      <td>87.024510</td>\n",
       "      <td>-42.545664</td>\n",
       "      <td>346.550171</td>\n",
       "      <td>12.871155</td>\n",
       "      <td>Pal13</td>\n",
       "    </tr>\n",
       "    <tr>\n",
       "      <th>992223</th>\n",
       "      <td>87.053785</td>\n",
       "      <td>-42.538558</td>\n",
       "      <td>346.564960</td>\n",
       "      <td>12.888702</td>\n",
       "      <td>Pal13</td>\n",
       "    </tr>\n",
       "    <tr>\n",
       "      <th>992224</th>\n",
       "      <td>87.097982</td>\n",
       "      <td>-42.540379</td>\n",
       "      <td>346.594187</td>\n",
       "      <td>12.904579</td>\n",
       "      <td>Pal13</td>\n",
       "    </tr>\n",
       "    <tr>\n",
       "      <th>992225</th>\n",
       "      <td>87.117962</td>\n",
       "      <td>-42.540081</td>\n",
       "      <td>346.606789</td>\n",
       "      <td>12.912698</td>\n",
       "      <td>Pal13</td>\n",
       "    </tr>\n",
       "    <tr>\n",
       "      <th>992226</th>\n",
       "      <td>87.145911</td>\n",
       "      <td>-42.536231</td>\n",
       "      <td>346.622542</td>\n",
       "      <td>12.926953</td>\n",
       "      <td>Pal13</td>\n",
       "    </tr>\n",
       "  </tbody>\n",
       "</table>\n",
       "<p>992199 rows × 5 columns</p>\n",
       "</div>"
      ],
      "text/plain": [
       "             _Glon      _Glat    _RAJ2000   _DEJ2000  Cluster\n",
       "0       136.163369 -23.291857   28.329417  37.984833  NGC 752\n",
       "1       136.390938 -23.836403   28.405333  37.404806  NGC 752\n",
       "2       136.386537 -23.211326   28.607250  38.009139  NGC 752\n",
       "3       136.553405 -23.705483   28.629333  37.492111  NGC 752\n",
       "4       136.587727 -23.750297   28.652583  37.440583  NGC 752\n",
       "...            ...        ...         ...        ...      ...\n",
       "992222   87.024510 -42.545664  346.550171  12.871155    Pal13\n",
       "992223   87.053785 -42.538558  346.564960  12.888702    Pal13\n",
       "992224   87.097982 -42.540379  346.594187  12.904579    Pal13\n",
       "992225   87.117962 -42.540081  346.606789  12.912698    Pal13\n",
       "992226   87.145911 -42.536231  346.622542  12.926953    Pal13\n",
       "\n",
       "[992199 rows x 5 columns]"
      ]
     },
     "execution_count": 15,
     "metadata": {},
     "output_type": "execute_result"
    }
   ],
   "source": [
    "df.to_csv('../Samples/RenamedClusters.csv')\n",
    "df"
   ]
  },
  {
   "cell_type": "markdown",
   "metadata": {},
   "source": [
    "Ahora con este dataframe haremos un merge en la base de datos de Gaia DR3 mediante el software TopCat. Lo que hace este software es acceder a la base de datos de la misión espacial Gaia, en su versión más actualiada (DR3). Usando las coordenadas que situan a cada estrella en el cialo (_RAJ2000 y _DEJ2000 en nuestro dataset), va a buscar nuestras estrellas en la base de datos y agregar las columnas con todos los datos y características que tenga sobre ellas. El dataset resultante pesa mucho asi que no puede subirse a Git. Lo encontraremos en el siguiente enlace de Drive:"
   ]
  },
  {
   "cell_type": "code",
   "execution_count": 16,
   "metadata": {},
   "outputs": [],
   "source": [
    "# https://drive.google.com/file/d/1DcoOVX4CSyg2qZCR8KQmTaG21PphJTvE/view?usp=drive_link"
   ]
  },
  {
   "cell_type": "markdown",
   "metadata": {},
   "source": [
    "## 2. STARSSample explore"
   ]
  },
  {
   "cell_type": "code",
   "execution_count": 17,
   "metadata": {},
   "outputs": [
    {
     "name": "stdout",
     "output_type": "stream",
     "text": [
      "Rows: 984102\n",
      "Columns: 134\n",
      "+----------------+----------------+------------+-----------+---------------+\n",
      "|                | Non-Null Count | Null Count | Data Type | Data Category |\n",
      "+----------------+----------------+------------+-----------+---------------+\n",
      "|      col1      |     984102     |     0      |   int64   |   Numerical   |\n",
      "|     _Glon      |     984102     |     0      |  float64  |   Numerical   |\n",
      "|     _Glat      |     984102     |     0      |  float64  |   Numerical   |\n",
      "|    _RAJ2000    |     984102     |     0      |  float64  |   Numerical   |\n",
      "|    _DEJ2000    |     984102     |     0      |  float64  |   Numerical   |\n",
      "|    Cluster     |     984102     |     0      |  object   |  Categorical  |\n",
      "|    DR3Name     |     984102     |     0      |  object   |  Categorical  |\n",
      "|     RAdeg      |     984102     |     0      |  float64  |   Numerical   |\n",
      "|     DEdeg      |     984102     |     0      |  float64  |   Numerical   |\n",
      "|   errHalfMaj   |     984102     |     0      |  float64  |   Numerical   |\n",
      "|   errHalfMin   |     984102     |     0      |  float64  |   Numerical   |\n",
      "|   errPosAng    |     984102     |     0      |  float64  |   Numerical   |\n",
      "|     SolID      |     984102     |     0      |   int64   |   Numerical   |\n",
      "|     Source     |     984102     |     0      |   int64   |   Numerical   |\n",
      "|    RandomI     |     984102     |     0      |   int64   |   Numerical   |\n",
      "|    e_RAdeg     |     984102     |     0      |  float64  |   Numerical   |\n",
      "|    e_DEdeg     |     984102     |     0      |  float64  |   Numerical   |\n",
      "|      Plx       |     867897     |   116205   |  float64  |   Numerical   |\n",
      "|     e_Plx      |     867897     |   116205   |  float64  |   Numerical   |\n",
      "|      RPlx      |     867897     |   116205   |  float64  |   Numerical   |\n",
      "|       PM       |     867897     |   116205   |  float64  |   Numerical   |\n",
      "|      pmRA      |     867897     |   116205   |  float64  |   Numerical   |\n",
      "|     e_pmRA     |     867897     |   116205   |  float64  |   Numerical   |\n",
      "|      pmDE      |     867897     |   116205   |  float64  |   Numerical   |\n",
      "|     e_pmDE     |     867897     |   116205   |  float64  |   Numerical   |\n",
      "|    RADEcor     |     984102     |     0      |  float64  |   Numerical   |\n",
      "|    RAPlxcor    |     867897     |   116205   |  float64  |   Numerical   |\n",
      "|   RApmRAcor    |     867897     |   116205   |  float64  |   Numerical   |\n",
      "|   RApmDEcor    |     867897     |   116205   |  float64  |   Numerical   |\n",
      "|    DEPlxcor    |     867897     |   116205   |  float64  |   Numerical   |\n",
      "|   DEpmRAcor    |     867897     |   116205   |  float64  |   Numerical   |\n",
      "|   DEpmDEcor    |     867897     |   116205   |  float64  |   Numerical   |\n",
      "|   PlxpmRAcor   |     867897     |   116205   |  float64  |   Numerical   |\n",
      "|   PlxpmDEcor   |     867897     |   116205   |  float64  |   Numerical   |\n",
      "|  pmRApmDEcor   |     867897     |   116205   |  float64  |   Numerical   |\n",
      "|      NAL       |     984102     |     0      |   int64   |   Numerical   |\n",
      "|      NAC       |     984102     |     0      |   int64   |   Numerical   |\n",
      "|      NgAL      |     984102     |     0      |   int64   |   Numerical   |\n",
      "|      NbAL      |     984102     |     0      |   int64   |   Numerical   |\n",
      "|     gofAL      |     984102     |     0      |  float64  |   Numerical   |\n",
      "|     chi2AL     |     984102     |     0      |  float64  |   Numerical   |\n",
      "|      epsi      |     984102     |     0      |  float64  |   Numerical   |\n",
      "|     sepsi      |     984102     |     0      |  float64  |   Numerical   |\n",
      "|     Solved     |     984102     |     0      |   int64   |   Numerical   |\n",
      "|      APF       |     984102     |     0      |   bool    |   Numerical   |\n",
      "|     nueff      |     426356     |   557746   |  float64  |   Numerical   |\n",
      "|     pscol      |     441541     |   542561   |  float64  |   Numerical   |\n",
      "|    e_pscol     |     441541     |   542561   |  float64  |   Numerical   |\n",
      "|  RApscolCorr   |     441541     |   542561   |  float64  |   Numerical   |\n",
      "|  DEpscolCorr   |     441541     |   542561   |  float64  |   Numerical   |\n",
      "|  PlxpscolCorr  |     441541     |   542561   |  float64  |   Numerical   |\n",
      "| pmRApscolCorr  |     441541     |   542561   |  float64  |   Numerical   |\n",
      "| pmDEpscolCorr  |     441541     |   542561   |  float64  |   Numerical   |\n",
      "|   MatchObsA    |     984102     |     0      |   int64   |   Numerical   |\n",
      "|      Nper      |     984102     |     0      |   int64   |   Numerical   |\n",
      "|      amax      |     984102     |     0      |  float64  |   Numerical   |\n",
      "|    MatchObs    |     984102     |     0      |   int64   |   Numerical   |\n",
      "|    IPDgofha    |     984102     |     0      |  float64  |   Numerical   |\n",
      "|    IPDgofhp    |     984102     |     0      |  float64  |   Numerical   |\n",
      "|     IPDfmp     |     984102     |     0      |   int64   |   Numerical   |\n",
      "|     IPDfow     |     984102     |     0      |   int64   |   Numerical   |\n",
      "|      RUWE      |     867897     |   116205   |  float64  |   Numerical   |\n",
      "|      Dup       |     984102     |     0      |   int64   |   Numerical   |\n",
      "|     o_Gmag     |     984102     |     0      |   int64   |   Numerical   |\n",
      "|       FG       |     982769     |    1333    |  float64  |   Numerical   |\n",
      "|      e_FG      |     982769     |    1333    |  float64  |   Numerical   |\n",
      "|      RFG       |     982769     |    1333    |  float64  |   Numerical   |\n",
      "|      Gmag      |     982769     |    1333    |  float64  |   Numerical   |\n",
      "|     e_Gmag     |     982769     |    1333    |  float64  |   Numerical   |\n",
      "|    o_BPmag     |     984102     |     0      |   int64   |   Numerical   |\n",
      "|      FBP       |     867344     |   116758   |  float64  |   Numerical   |\n",
      "|     e_FBP      |     867344     |   116758   |  float64  |   Numerical   |\n",
      "|      RFBP      |     867344     |   116758   |  float64  |   Numerical   |\n",
      "|     BPmag      |     867344     |   116758   |  float64  |   Numerical   |\n",
      "|    e_BPmag     |     867344     |   116758   |  float64  |   Numerical   |\n",
      "|    o_RPmag     |     984102     |     0      |   int64   |   Numerical   |\n",
      "|      FRP       |     869724     |   114378   |  float64  |   Numerical   |\n",
      "|     e_FRP      |     869724     |   114378   |  float64  |   Numerical   |\n",
      "|      RFRP      |     869724     |   114378   |  float64  |   Numerical   |\n",
      "|     RPmag      |     869724     |   114378   |  float64  |   Numerical   |\n",
      "|    e_RPmag     |     869724     |   114378   |  float64  |   Numerical   |\n",
      "|    E(BP/RP)    |     866851     |   117251   |  float64  |   Numerical   |\n",
      "|    NBPcont     |     867344     |   116758   |  float64  |   Numerical   |\n",
      "|    NBPblend    |     867344     |   116758   |  float64  |   Numerical   |\n",
      "|    NRPcont     |     869724     |   114378   |  float64  |   Numerical   |\n",
      "|    NRPblend    |     869724     |   114378   |  float64  |   Numerical   |\n",
      "|      Mode      |     983470     |    632     |  float64  |   Numerical   |\n",
      "|     BP-RP      |     866851     |   117251   |  float64  |   Numerical   |\n",
      "|      BP-G      |     867342     |   116760   |  float64  |   Numerical   |\n",
      "|      G-RP      |     869025     |   115077   |  float64  |   Numerical   |\n",
      "|       RV       |     20806      |   963296   |  float64  |   Numerical   |\n",
      "|      e_RV      |     20806      |   963296   |  float64  |   Numerical   |\n",
      "|      n_RV      |     20806      |   963296   |  float64  |   Numerical   |\n",
      "|      o_RV      |     20806      |   963296   |  float64  |   Numerical   |\n",
      "|     o_RVd      |     20806      |   963296   |  float64  |   Numerical   |\n",
      "|     RVNper     |     20806      |   963296   |  float64  |   Numerical   |\n",
      "|     RVS/N      |     20806      |   963296   |  float64  |   Numerical   |\n",
      "|     RVgof      |      5605      |   978497   |  float64  |   Numerical   |\n",
      "|     RVchi2     |      5528      |   978574   |  float64  |   Numerical   |\n",
      "|     RVTdur     |     20806      |   963296   |  float64  |   Numerical   |\n",
      "|     RVamp      |      5528      |   978574   |  float64  |   Numerical   |\n",
      "|   RVtempTeff   |     20806      |   963296   |  float64  |   Numerical   |\n",
      "|   RVtemplogg   |     20806      |   963296   |  float64  |   Numerical   |\n",
      "|  RVtemp[Fe/H]  |     20806      |   963296   |  float64  |   Numerical   |\n",
      "|   Vatmparam    |     20806      |   963296   |  float64  |   Numerical   |\n",
      "|     vbroad     |      2839      |   981263   |  float64  |   Numerical   |\n",
      "|    e_Vbroad    |      2839      |   981263   |  float64  |   Numerical   |\n",
      "|    o_Vbroad    |      2839      |   981263   |  float64  |   Numerical   |\n",
      "|    GRVSmag     |     19897      |   964205   |  float64  |   Numerical   |\n",
      "|   e_GRVSmag    |     19897      |   964205   |  float64  |   Numerical   |\n",
      "|   o_GRVSmag    |     19897      |   964205   |  float64  |   Numerical   |\n",
      "|     RVSS/N     |      1398      |   982704   |  float64  |   Numerical   |\n",
      "|    VarFlag     |     984102     |     0      |  object   |  Categorical  |\n",
      "|      PQSO      |     887866     |   96236    |  float64  |   Numerical   |\n",
      "|      PGal      |     887866     |   96236    |  float64  |   Numerical   |\n",
      "|      PSS       |     887866     |   96236    |  float64  |   Numerical   |\n",
      "|      Teff      |     287297     |   696805   |  float64  |   Numerical   |\n",
      "|      logg      |     287297     |   696805   |  float64  |   Numerical   |\n",
      "|     [Fe/H]     |     287297     |   696805   |  float64  |   Numerical   |\n",
      "|      Dist      |     287297     |   696805   |  float64  |   Numerical   |\n",
      "|       A0       |     287297     |   696805   |  float64  |   Numerical   |\n",
      "|       AG       |     287297     |   696805   |  float64  |   Numerical   |\n",
      "|    E(BP-RP)    |     287297     |   696805   |  float64  |   Numerical   |\n",
      "|      Lib       |     287297     |   696805   |  object   |  Categorical  |\n",
      "|    RAJ2000     |     984102     |     0      |  float64  |   Numerical   |\n",
      "|    DEJ2000     |     984102     |     0      |  float64  |   Numerical   |\n",
      "|   e_RAJ2000    |     984102     |     0      |  float64  |   Numerical   |\n",
      "|   e_DEJ2000    |     984102     |     0      |  float64  |   Numerical   |\n",
      "|  RADEcorJ2000  |     984102     |     0      |  float64  |   Numerical   |\n",
      "|    angDist     |     984102     |     0      |  float64  |   Numerical   |\n",
      "| CartesianCoord |     984102     |     0      |  object   |  Categorical  |\n",
      "|       X        |     867897     |   116205   |  float64  |   Numerical   |\n",
      "|       Y        |     867897     |   116205   |  float64  |   Numerical   |\n",
      "|       Z        |     867897     |   116205   |  float64  |   Numerical   |\n",
      "+----------------+----------------+------------+-----------+---------------+\n"
     ]
    }
   ],
   "source": [
    "#stars_df = pd.read_csv('../Samples/STARSSample.csv')\n",
    "#num, cat = EDA.explore(stars_df)"
   ]
  },
  {
   "cell_type": "markdown",
   "metadata": {},
   "source": [
    "Definición de las columnas:\n",
    "- col1: índice\n",
    "- _Glon: coordenada longitud galáctica. Ángulo sobre el disco de la galaxia desde la dirección del centro galáctico hasta la vertical de la estrella.\n",
    "- _Glat: coordenada latitud galáctica. Ángulo desde el disco galactico hasta la estrella.\n",
    "- _RAJ2000: coordenada ascensión recta de la época 2000. Ángulo sobre el ecuador desde el punto vernal hasta la vertical de la estrella.\n",
    "- _DEJ2000: coordenada declinación de la época 2000. Ángulo desde el ecuador hasta la estrella.\n",
    "- Cluster: Nombre del cúmulo al que pertenece la estrella.\n",
    "- DR3Name: Nombre de la estrella en el catálogo DR3 de Gaia.\n",
    "- RAdeg: igual que _RAJ2000\n",
    "- DEdeg: igual que _DEJ2000\n",
    "- *errHalfMaj, *errHalfMin, *errPosAng: errores de la medida de la posición.\n",
    "- *SolID, *Source, *RandomI: otros identificadores.\n",
    "- e_RAdeg, e_DEdeg: errores en la medida de ascensión recta y declinación.\n",
    "- Plx: paralaje. Es el dato que necesitamos para obtener la distancia.\n",
    "- e_Plx: error en la medida del paralaje.\n",
    "- RPlx: paralaje dividido por su desviación estándar.\n",
    "- PM: movimiento propio.\n",
    "- pmRA: velocidad de la estrella en su movimiento propio respecto al centro de la galaxia en la coordenada ascensión recta. Medido en mas/yr.\n",
    "- e_pmRA: error en la medida de pmRA.\n",
    "- pmDE: velocidad de la estrella en su movimiento propio respecto al centro de la galaxia en la coordenada declinación. Medido en mas/yr.\n",
    "- e_pmDE: error en la medida de pmDE.\n",
    "- RADEcor, RAPlxcor,RApmRAcor,RApmDEcor, DEPlxcor, DEpmRAcor,DEpmDEcor, PlxpmRAcor,PlxpmDEcor, pmRApmDEcor: correlaciones entre magnitudes.\n",
    "- NAL, NAC: número total de observaciones en diferentes longitudes de onda.\n",
    "- NgAL, NgAL: número de buenas observaciones en diferentes longitudes de onda.\n",
    "- *gofAL, *chi2AL: estádisticas de la bondad de las observaciones.\n",
    "- epsi, sepsi: exceso de ruido en la observación de la fuente y su significancia.\n",
    "- *Solved: parámetros astrométricos resueltos.\n",
    "- *APF: astrometría primaria o secundaria.\n",
    "- *nueff: número de onda efectivo usado en la solución astrométrica.\n",
    "- pscol: pseudocolor estimado astrométricamente.\n",
    "- e_pscol: error en la medida de pscol.\n",
    "- RApscolCorr, DEpscolCorr, PlxpscolCorr,pmRApscolCorr,pmDEpscolCorr: correlaciones entre las variables.\n",
    "- *MatchObsA: tránsitos encontrados en FOV usando la solución AGIS.\n",
    "- Nper: número de periodos de visibilidad usados en la solución astrométrica.\n",
    "- amax: eje semimayor del elipsoide de error.\n",
    "- *IPDgofha: amplitud del GoF IPD.\n",
    "- MatchObs: número total de tránsitos.\n",
    "- *IPDgofhp: fase del GoF IPD.\n",
    "- *IPDfmp: porcentaje de éxito de la ventana IPD.\n",
    "- *IPDfow: porcentaje de tránsitos fallidos.\n",
    "- RUWE: error de peso normalizado.\n",
    "- *Dup: si es una fuente con múltiples identificadores.\n",
    "- o_Gmag: número de tránsitos que contibuyen a la medida del flujo en Gmag.\n",
    "- FG: flujo medio en la banda G.\n",
    "- e_FG: error de FG.\n",
    "- RFG: FG dividido por su error.\n",
    "- Gmag: magnitud en la banda G.\n",
    "- e_Gmag: error de Gmag.\n",
    "- o_BPmag: numero de observaciones que contribuye a fotometría BP.\n",
    "- FBP: flujo medio en la banda BP.\n",
    "- e_FBP: error de FBP.\n",
    "- RFBP: FBP dividido por su error.\n",
    "- BPmag: magnitud en la banda BP.\n",
    "- e_BPmag: error de BPmag.\n",
    "- o_RPmag: numero de tránsitos que contribuye a la fotometría RP.\n",
    "- FRP: flujo medio en la banda RP.\n",
    "- e_FRP: error de FRP.\n",
    "- RFRP: FRP dividido por su error.\n",
    "- RPmag: magnitud en la banda RP.\n",
    "- e_RPmag: error de RPmag.\n",
    "- E(BP/RP): factor de exceso de color en BP/RP.\n",
    "- NBPcont, NRPcont: numero de tránsitos contaminados en cada banda.\n",
    "- NBPblend, NRPblend: número de tránsitos mezclados en cada banda.\n",
    "- *Mode: modo de procesamiento de la fotometría.\n",
    "- BP-RP, BP-G,G-RP: colores en diferentes bandas.\n",
    "- RV: velocidad radial.\n",
    "- e_RV: error de la velocidad radial.\n",
    "- *n_RV: método usado para obtener la velocidad radial.\n",
    "- o_RV: número de tránsitos usados para obtener la velocidad radial.\n",
    "- o_RVd: número de tránsitos válidos.\n",
    "- RVNper: número de periodos de visibilidad usados para obtener la velocidad radial.\n",
    "- RVS/N: ratio de ruido en la señal espectral para obtener la velocidad radial.\n",
    "- *RVgof, *RVchi2: estadísticas en el cálculo de RV.\n",
    "- *RVTdur: tiempo cubierto en la serie temporal de velocidad radial.\n",
    "- *RVamp: amplitud máxima en la serie temporal de velocidad una vez eliminados los outliers.\n",
    "- RVtempTeff: temperatura efectiva del modelo usado para calcular la velocidad radial.\n",
    "- RVtemplogg: logaritmo de la temperatura efectiva.\n",
    "- RVtemp[Fe/H]: metalicidad del modelo usado para calcular la temperatura efectiva.\n",
    "- Vatmparam: origen de los parámetros atmoféricos asociados al modelo.\n",
    "- vbroad: líneas espectrales ampliadas.\n",
    "- e_Vbroad: error de vbroad.\n",
    "- o_Vbroad: número de tránsitos usados para calcular vbroad.\n",
    "- GRVSmag: magnitud Grvs.\n",
    "- e_GRVSmag: error de GRVSmag.\n",
    "- o_GRVSmag: número de tránsitos usados para calcular o_GRVSmag.\n",
    "- RVSS/N: ratio de señal/ruido en el espectro de RVS.\n",
    "- *VarFlag: marcador de variabilidad fotométrica.\n",
    "- PQSO: probabilidad de que sea un quásar.\n",
    "- PGal: probabilidad de que sea una galaxia.\n",
    "- PSS: probabilidad de que sea una única estrella.\n",
    "- Teff: temperatura efectiva con la banda BP/RP.\n",
    "- logg: gravedad en la superficie de la estrella con la banda BP/RP\n",
    "- [Fe/H]: metalicidad\n",
    "- Dist: distancia usando la banda BP/RP.\n",
    "- A0: extinción.\n",
    "- AG:extinción en la banda G.\n",
    "- E(BP-RP): enrojecimiento en la banda BP-RP.\n",
    "- *Lib: nombre de la librería usada en parámetros de astrofotometría.\n",
    "- RAJ2000: igual que _RAJ2000\n",
    "- DEJ2000: igual que _DEJ2000\n",
    "- e_RAJ2000: error de RAJ2000\n",
    "- e_DEJ2000: error deDEJ2000\n",
    "- RADEcorj2000: corrección de época J2000\n",
    "- angDist: distancia angular.\n",
    "- *CartessianCoord: vector con las coordenadas cartesianas x,y,z\n",
    "- X: coordenada cartesiana x\n",
    "- Y: coordenada cartesiana y\n",
    "- Z: coordenada cartesiana z\n",
    "  \n",
    "> Nuestro target es la columna Clusters y el resto son variables predictoras"
   ]
  },
  {
   "cell_type": "markdown",
   "metadata": {},
   "source": [
    "### 2.1 Eliminación de las columnas repetidas\n",
    "Hay columnas repetidas, por lo que las eliminaremos."
   ]
  },
  {
   "cell_type": "markdown",
   "metadata": {},
   "source": [
    "### 2.2 Eliminación de información irrelevante\n",
    "Están marcadas con un asterisco la información que estamos seguros que es irrelevante para nuestro objetivo. Hay que eliminar estas columnas."
   ]
  },
  {
   "cell_type": "markdown",
   "metadata": {},
   "source": [
    "### 2.3 Tratamiento de valores nulos\n",
    "Parece haber muchas estrellas sin la variable Plx, por lo que no podemos calcular la distancia para ellas. Habrá que valorar si se eliminan estos objetos o si se sustituye Plx por la moda o media de las estrellas de su cúmulo.\n",
    "\n",
    "Hay que hacer una exploración más a fondo para ver si tenemos valores nulos en más columnas."
   ]
  },
  {
   "cell_type": "markdown",
   "metadata": {},
   "source": [
    "### 2.4 Limpieza general de datos\n",
    "Las variables PQSO y PGal nos dan las probabilidad que estima el satélite de que ese objeto sea en realidad una galaxia lejana o un quásar en lugar de una estrella. Hay que hacer un histograma de estas variables y decidir a partir de qué probabilidades eliminamos el objeto (por ejemplo, todo lo que sea por encima de 80% de probabilidad de ser algo que no es una estrella??)."
   ]
  },
  {
   "cell_type": "markdown",
   "metadata": {},
   "source": [
    "### 2.5 Factorización de valiables categóricas y target\n",
    "Se factorizan las variables categóricas y se guarda la tabla de equivalencia."
   ]
  },
  {
   "cell_type": "markdown",
   "metadata": {},
   "source": [
    "### El sample resultado de estos cambios se guarda como '../Samples/PostEDA/STARS_PreCleaned.csv'\n",
    "### Las tablas de equivalencia de las categóricas se guarda como '../Samples/Auxiliar/NombreVariable_Factorization.csv'"
   ]
  },
  {
   "cell_type": "code",
   "execution_count": null,
   "metadata": {},
   "outputs": [],
   "source": []
  }
 ],
 "metadata": {
  "kernelspec": {
   "display_name": "Python 3",
   "language": "python",
   "name": "python3"
  },
  "language_info": {
   "codemirror_mode": {
    "name": "ipython",
    "version": 3
   },
   "file_extension": ".py",
   "mimetype": "text/x-python",
   "name": "python",
   "nbconvert_exporter": "python",
   "pygments_lexer": "ipython3",
   "version": "3.10.12"
  }
 },
 "nbformat": 4,
 "nbformat_minor": 2
}
