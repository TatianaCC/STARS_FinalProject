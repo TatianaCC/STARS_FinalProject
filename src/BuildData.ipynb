{
 "cells": [
  {
   "cell_type": "code",
   "execution_count": 5,
   "metadata": {},
   "outputs": [],
   "source": [
    "import pandas as pd\n",
    "import numpy as np\n",
    "import unicodedata\n",
    "from edastatmil_milser import edas_tatmil as EDA\n",
    "from szip_engine import compress_and_split, decompress_volumes\n",
    "from tools import remove_spaces, remove_tabs, replicates_rows,rename_clusters, nulls_columns, nulls_in_cluster, split_clusters\n",
    "#pd.set_option('display.max_rows', None)"
   ]
  },
  {
   "cell_type": "markdown",
   "metadata": {},
   "source": [
    "En este notebook vamos a realiar las siguientes tareas:\n",
    "1. Construir nuestro dataset de inicio (punto 1 de Apuntes).\n",
    "2. Hacer la limpieza preliminar de los datos (punto 2.1 de Apuntes).\n",
    "   \n",
    "Las funciones que necesitamos están descritas en tool.py para que este notebook sea más legible."
   ]
  },
  {
   "cell_type": "markdown",
   "metadata": {},
   "source": [
    "## 1. Stars sample preview"
   ]
  },
  {
   "cell_type": "markdown",
   "metadata": {},
   "source": [
    "Partimos de un dataset que se ha construido tal y como se describe en el punto 1 de los Apuntes: descargando samples de datos para diversos trabajos científicos relacionados con cúmulos de estrellas y unificándolos bajo 5 columnas:"
   ]
  },
  {
   "cell_type": "code",
   "execution_count": 2,
   "metadata": {},
   "outputs": [
    {
     "data": {
      "text/html": [
       "<div>\n",
       "<style scoped>\n",
       "    .dataframe tbody tr th:only-of-type {\n",
       "        vertical-align: middle;\n",
       "    }\n",
       "\n",
       "    .dataframe tbody tr th {\n",
       "        vertical-align: top;\n",
       "    }\n",
       "\n",
       "    .dataframe thead th {\n",
       "        text-align: right;\n",
       "    }\n",
       "</style>\n",
       "<table border=\"1\" class=\"dataframe\">\n",
       "  <thead>\n",
       "    <tr style=\"text-align: right;\">\n",
       "      <th></th>\n",
       "      <th>_Glon</th>\n",
       "      <th>_Glat</th>\n",
       "      <th>_RAJ2000</th>\n",
       "      <th>_DEJ2000</th>\n",
       "      <th>Cluster</th>\n",
       "    </tr>\n",
       "  </thead>\n",
       "  <tbody>\n",
       "    <tr>\n",
       "      <th>0</th>\n",
       "      <td>136.163369</td>\n",
       "      <td>-23.291857</td>\n",
       "      <td>28.329417</td>\n",
       "      <td>37.984833</td>\n",
       "      <td>Mel12</td>\n",
       "    </tr>\n",
       "    <tr>\n",
       "      <th>1</th>\n",
       "      <td>136.390938</td>\n",
       "      <td>-23.836403</td>\n",
       "      <td>28.405333</td>\n",
       "      <td>37.404806</td>\n",
       "      <td>Mel12</td>\n",
       "    </tr>\n",
       "    <tr>\n",
       "      <th>2</th>\n",
       "      <td>136.386537</td>\n",
       "      <td>-23.211326</td>\n",
       "      <td>28.607250</td>\n",
       "      <td>38.009139</td>\n",
       "      <td>Mel12</td>\n",
       "    </tr>\n",
       "    <tr>\n",
       "      <th>3</th>\n",
       "      <td>136.553405</td>\n",
       "      <td>-23.705483</td>\n",
       "      <td>28.629333</td>\n",
       "      <td>37.492111</td>\n",
       "      <td>Mel12</td>\n",
       "    </tr>\n",
       "    <tr>\n",
       "      <th>4</th>\n",
       "      <td>136.587727</td>\n",
       "      <td>-23.750297</td>\n",
       "      <td>28.652583</td>\n",
       "      <td>37.440583</td>\n",
       "      <td>Mel12</td>\n",
       "    </tr>\n",
       "  </tbody>\n",
       "</table>\n",
       "</div>"
      ],
      "text/plain": [
       "        _Glon      _Glat   _RAJ2000   _DEJ2000 Cluster\n",
       "0  136.163369 -23.291857  28.329417  37.984833   Mel12\n",
       "1  136.390938 -23.836403  28.405333  37.404806   Mel12\n",
       "2  136.386537 -23.211326  28.607250  38.009139   Mel12\n",
       "3  136.553405 -23.705483  28.629333  37.492111   Mel12\n",
       "4  136.587727 -23.750297  28.652583  37.440583   Mel12"
      ]
     },
     "execution_count": 2,
     "metadata": {},
     "output_type": "execute_result"
    }
   ],
   "source": [
    "df = pd.read_csv('../Samples/Clusters.csv')\n",
    "df.head()"
   ]
  },
  {
   "cell_type": "code",
   "execution_count": 3,
   "metadata": {},
   "outputs": [
    {
     "data": {
      "text/plain": [
       "(992227, 5)"
      ]
     },
     "execution_count": 3,
     "metadata": {},
     "output_type": "execute_result"
    }
   ],
   "source": [
    "df.shape"
   ]
  },
  {
   "cell_type": "markdown",
   "metadata": {},
   "source": [
    "Estas columnas se corresponden con las coordenadas de las estrellas en dos sistemas de coordenadas diferentes (coordenadas galácticas y ecuatoriales) y una columna con el nombre que tenía el cúmulo en el trabajo científico del cual proviene el dato. Cada fila se corresponte, por tanto, con una estrella."
   ]
  },
  {
   "cell_type": "markdown",
   "metadata": {},
   "source": [
    "Obtenemos una lista de los numbres de los clusters incluidos en el stars sample"
   ]
  },
  {
   "cell_type": "code",
   "execution_count": 4,
   "metadata": {},
   "outputs": [
    {
     "data": {
      "text/plain": [
       "array(['Mel12', 'Mel25', 'NGC 2632', 'NGC 2168', 'NGC 2099', 'NGC 1746',\n",
       "       'NGC 1039', 'NGC 1647', 'NGC 2183', 'NGC 1912', 'NGC 2281',\n",
       "       'NGC 2420', 'NGC 2158', 'NGC 869', 'NGC 1662', 'Basel 11B',\n",
       "       'NGC 1528', 'NGC 2252', 'Basel 4', 'NGC 1960', 'NGC 6205',\n",
       "       'Waterloo 2', 'NGC 6819', 'NGC 5272', 'Berkeley 71', 'Berkeley 32',\n",
       "       'Berkeley 17', 'Berkeley 29', 'Berkeley 53', 'Berkeley 66',\n",
       "       'FSR 0494', 'IC 166', 'King 5', 'King 7', 'M 107', 'M 13', 'M 15',\n",
       "       'M 2', 'M 3', 'M 35', 'M 5', 'M 53', 'M 67', 'M 71', 'M 92',\n",
       "       'NGC 1245', 'NGC 1798', 'NGC 188', 'NGC 2243', 'NGC 2682',\n",
       "       'NGC 4147', 'NGC 5466', 'NGC 6791', 'NGC 6811', 'NGC 7789',\n",
       "       'Pleiades', 'Teutsch 51', 'Mel13', 'Mel14', 'NGC 2532', 'IC 2395',\n",
       "       'NGC 2808', 'NGC 0104', 'NGC 1904', 'NGC 1851', 'NGC 6266',\n",
       "       'NGC 5139', 'NGC 3201', 'NGC 0362', 'NGC 5286', 'NGC 6218',\n",
       "       'NGC 5904', 'NGC 6093', 'NGC 6254', 'NGC 6293', 'NGC 6388',\n",
       "       'NGC 6522', 'NGC 6441', 'NGC 6541', 'NGC 6624', 'NGC 7078',\n",
       "       'NGC 6656', 'NGC 6681', 'NGC 6752', 'NGC 7089', 'NGC 7099',\n",
       "       'Berkeley 86', 'IC 1805', 'IC 2944', 'NGC 457', 'NGC 884',\n",
       "       'NGC 1502', 'NGC 2244', 'NGC 2362', 'NGC 2384', 'NGC 2422',\n",
       "       'NGC 2467', 'NGC 3293', 'NGC 4755', 'NGC 6193', 'NGC 7160',\n",
       "       'Trumpler 14', 'CR 228', 'Trumpler 16', 'NGC1261', 'NGC3201',\n",
       "       'NGC6139', 'NGC6205', 'NGC6362', 'NGC6397', 'NGC6712', '  Pal13'],\n",
       "      dtype=object)"
      ]
     },
     "execution_count": 4,
     "metadata": {},
     "output_type": "execute_result"
    }
   ],
   "source": [
    "actual_name = df['Cluster'].unique()\n",
    "actual_name"
   ]
  },
  {
   "cell_type": "markdown",
   "metadata": {},
   "source": [
    "Hay que comprobar que no tenemos el mismo cluster nombrado de dos formas diferentes. Para ello:\n",
    "1. Vamos a hacer una tabla con los diferentes nombres de los clusters los diferentes catálogos posibles.\n",
    "2. Escogeremos el catálogo con el que vamos a trabajar para tener todos los cluster identificados bajo un mismo criterio.\n",
    "3. Renombraremos los clusters con el nombre escogido."
   ]
  },
  {
   "cell_type": "markdown",
   "metadata": {},
   "source": [
    "### 1.1 Rename clusters\n",
    "Se hace una lista para los nombres en cada catalogo, basada en la lista de nombres de clusters obtenida del stars sample. Si un nombre de la lista inicial no está en algún catálogo, agregamos None."
   ]
  },
  {
   "cell_type": "code",
   "execution_count": 5,
   "metadata": {},
   "outputs": [],
   "source": [
    "NGC_names = ['NGC752', None, 'NGC 2632', 'NGC 2168', 'NGC 2099', 'NGC 1746', 'NGC 1039','NGC 1647','NGC 2183','NGC 1912', 'NGC 2281', 'NGC 2420', 'NGC 2158','NGC 869','NGC 1662', None,'NGC 1528','NGC 2252', None,'NGC 1960', 'NGC 6205', None, 'NGC 6819','NGC 5272', None, None, None, None, None, None, None, None, None, None, 'NGC 6171', 'NGC 6205','NGC 7078', 'NGC 7089', 'NGC 5272',' NGC 2168', 'NGC 5904','NGC 5024','NGC 2682','NGC 6838','NGC 6341','NGC 5145','NGC 1798','NGC 188','NGC 2243','NGC 2682','NGC 4147','NGC 5466','NGC 6791','NGC 6811','NGC 7789', None, None,'NGC 869', 'NGC 884','NGC 2532', None, 'NGC 2808','NGC 0104','NGC 1904','NGC 1851','NGC 6266', 'NGC 5139','NGC 3201','NGC 0362','NGC 5286', 'NGC 6218', 'NGC 5904', 'NGC 6093', 'NGC 6254', 'NGC 6293', 'NGC 6388','NGC 6522', 'NGC 6441', 'NGC 6541','NGC 6624','NGC 7078','NGC 6656','NGC 6681','NGC 6752','NGC 7089','NGC 7099', None, None, None,'NGC 457','NGC 884','NGC 1502','NGC 2244', 'NGC 2362','NGC 2384','NGC 2422','NGC 2467','NGC 3293','NGC 4755','NGC 6193','NGC 7160', None, None, None,'NGC 1261','NGC 3201','NGC 6139','NGC 6205','NGC 6362','NGC 6397','NGC 6712', None]\n",
    "Mel_names = ['Mel 12', 'Mel 25', 'Mel 88', None, None, None, None, None, None, None, None, 'Mel 69', 'Mel 40', 'Mel 13', None, None, None, None, None, None, None, None, 'Mel 223', 'Mel 119', None, None, None, None, None, None, None, None, None, None, None, None, None, None, None, None, None, None, None, None, None, 'Mel 18', None, 'Mel 2','Mel 46', None, None, None, None, 'Mel 222', 'Mel 245', 'Mel 22', None, 'Mel 13', 'Mel 14', None, None, None, 'Mel 1', None, None, None, None, None, 'Mel 4', None, None, None, None, None, None, None, None, None, None, None, None, None, None, None, None, None, None, 'Mel 15', None, None, 'Mel 14', None, None, None, None, None, None,'Mel 100','Mel 144', None, None, None, None, None, None, None, None, None, None, None, None, None]\n",
    "M_names = [None, None, 'M 44', 'M 35', 'M 37', None, 'M 34',None, None, 'M 38', None, None, None, None, None, None, None, None, None, 'M 36', 'M 13', None, None, 'M 3', None, None, None, None, None, None, None, None, None, None, 'M 107', 'M 13','M 15','M 2', 'M 3','M 35','M 5', 'M 53', 'M 67', 'M 71', 'M 92', None, None, None, None, 'M 67', None, None, None, None, None,'M 45', None, None, None, None, None, None, None, 'M 79', None, 'M 62', None, None, None, None, 'M 12', 'M 5', 'M 80', 'M 10', None, None, None, None, None, None,'M 15', 'M 22','M 70', None,'M 2','M 30', None, None, None, None, None, None, None, None, None, 'M 47', None, None, None, None, None, None, None, None, None, None, None, 'M 13', None, None, None, None]\n",
    "Common_name = [None, 'Hiades', 'Beehive', None, None, None, None, None, None, None, None, None, None, 'H Persei', None, 'Basel 11b', None, None, None, None,'Hercules', None, 'Foxhead', None, None, None, None, None, None, None, None, None, None, None, None, 'Hercules', None, None, None, None, None, None, None, None, None, None, None, None, None, None, None, None, None, None, None, 'Pleiades', None, 'H Persei', 'Chi Persei', None, None, None, '47 Tuc', None, None, None, 'Ome Cen', None, None, None, None, None, None, None, None, None, None, None, None, None, None, None, None, None, None, None, None, 'AFGL 333', 'lam Cen','ET','Chi Persei', None, None, 'Tau CMa', None, None, None, None,'Jewel Box', None, None, None, None, None, None, None, None,'Hercules', None, None, None, None]"
   ]
  },
  {
   "cell_type": "markdown",
   "metadata": {},
   "source": [
    "Comprobamos que la longitud de todas las listas es la misma, de forma que no nos hemos equivocado. Si todo está bien, construimos el dataframe de la tabla de equivalencia de nombres."
   ]
  },
  {
   "cell_type": "code",
   "execution_count": 6,
   "metadata": {},
   "outputs": [
    {
     "name": "stdout",
     "output_type": "stream",
     "text": [
      "112\n",
      "112\n",
      "112\n",
      "112\n",
      "112\n"
     ]
    }
   ],
   "source": [
    "print(len(actual_name))\n",
    "print(len(NGC_names))\n",
    "print(len(Mel_names))\n",
    "print(len(M_names))\n",
    "print(len(Common_name))"
   ]
  },
  {
   "cell_type": "code",
   "execution_count": 7,
   "metadata": {},
   "outputs": [
    {
     "data": {
      "text/html": [
       "<div>\n",
       "<style scoped>\n",
       "    .dataframe tbody tr th:only-of-type {\n",
       "        vertical-align: middle;\n",
       "    }\n",
       "\n",
       "    .dataframe tbody tr th {\n",
       "        vertical-align: top;\n",
       "    }\n",
       "\n",
       "    .dataframe thead th {\n",
       "        text-align: right;\n",
       "    }\n",
       "</style>\n",
       "<table border=\"1\" class=\"dataframe\">\n",
       "  <thead>\n",
       "    <tr style=\"text-align: right;\">\n",
       "      <th></th>\n",
       "      <th>Actual Names</th>\n",
       "      <th>NGC_names</th>\n",
       "      <th>Mel_names</th>\n",
       "      <th>M_names</th>\n",
       "      <th>Common_name</th>\n",
       "    </tr>\n",
       "  </thead>\n",
       "  <tbody>\n",
       "    <tr>\n",
       "      <th>0</th>\n",
       "      <td>Mel12</td>\n",
       "      <td>NGC752</td>\n",
       "      <td>Mel 12</td>\n",
       "      <td>None</td>\n",
       "      <td>None</td>\n",
       "    </tr>\n",
       "    <tr>\n",
       "      <th>1</th>\n",
       "      <td>Mel25</td>\n",
       "      <td>None</td>\n",
       "      <td>Mel 25</td>\n",
       "      <td>None</td>\n",
       "      <td>Hiades</td>\n",
       "    </tr>\n",
       "    <tr>\n",
       "      <th>2</th>\n",
       "      <td>NGC 2632</td>\n",
       "      <td>NGC 2632</td>\n",
       "      <td>Mel 88</td>\n",
       "      <td>M 44</td>\n",
       "      <td>Beehive</td>\n",
       "    </tr>\n",
       "    <tr>\n",
       "      <th>3</th>\n",
       "      <td>NGC 2168</td>\n",
       "      <td>NGC 2168</td>\n",
       "      <td>None</td>\n",
       "      <td>M 35</td>\n",
       "      <td>None</td>\n",
       "    </tr>\n",
       "    <tr>\n",
       "      <th>4</th>\n",
       "      <td>NGC 2099</td>\n",
       "      <td>NGC 2099</td>\n",
       "      <td>None</td>\n",
       "      <td>M 37</td>\n",
       "      <td>None</td>\n",
       "    </tr>\n",
       "  </tbody>\n",
       "</table>\n",
       "</div>"
      ],
      "text/plain": [
       "  Actual Names NGC_names Mel_names M_names Common_name\n",
       "0        Mel12    NGC752    Mel 12    None        None\n",
       "1        Mel25      None    Mel 25    None      Hiades\n",
       "2     NGC 2632  NGC 2632    Mel 88    M 44     Beehive\n",
       "3     NGC 2168  NGC 2168      None    M 35        None\n",
       "4     NGC 2099  NGC 2099      None    M 37        None"
      ]
     },
     "execution_count": 7,
     "metadata": {},
     "output_type": "execute_result"
    }
   ],
   "source": [
    "clusters_names = pd.DataFrame(actual_name, columns=['Actual Names'])\n",
    "clusters_names['NGC_names'] = NGC_names\n",
    "clusters_names['Mel_names'] = Mel_names\n",
    "clusters_names['M_names'] = M_names\n",
    "clusters_names['Common_name'] = Common_name\n",
    "clusters_names.head(5)"
   ]
  },
  {
   "cell_type": "markdown",
   "metadata": {},
   "source": [
    "Eliminamos los espacios de los nombres"
   ]
  },
  {
   "cell_type": "code",
   "execution_count": 8,
   "metadata": {},
   "outputs": [
    {
     "data": {
      "text/html": [
       "<div>\n",
       "<style scoped>\n",
       "    .dataframe tbody tr th:only-of-type {\n",
       "        vertical-align: middle;\n",
       "    }\n",
       "\n",
       "    .dataframe tbody tr th {\n",
       "        vertical-align: top;\n",
       "    }\n",
       "\n",
       "    .dataframe thead th {\n",
       "        text-align: right;\n",
       "    }\n",
       "</style>\n",
       "<table border=\"1\" class=\"dataframe\">\n",
       "  <thead>\n",
       "    <tr style=\"text-align: right;\">\n",
       "      <th></th>\n",
       "      <th>Actual Names</th>\n",
       "      <th>NGC_names</th>\n",
       "      <th>Mel_names</th>\n",
       "      <th>M_names</th>\n",
       "      <th>Common_name</th>\n",
       "    </tr>\n",
       "  </thead>\n",
       "  <tbody>\n",
       "    <tr>\n",
       "      <th>0</th>\n",
       "      <td>Mel12</td>\n",
       "      <td>NGC752</td>\n",
       "      <td>Mel12</td>\n",
       "      <td>None</td>\n",
       "      <td>None</td>\n",
       "    </tr>\n",
       "    <tr>\n",
       "      <th>1</th>\n",
       "      <td>Mel25</td>\n",
       "      <td>None</td>\n",
       "      <td>Mel25</td>\n",
       "      <td>None</td>\n",
       "      <td>Hiades</td>\n",
       "    </tr>\n",
       "    <tr>\n",
       "      <th>2</th>\n",
       "      <td>NGC2632</td>\n",
       "      <td>NGC2632</td>\n",
       "      <td>Mel88</td>\n",
       "      <td>M44</td>\n",
       "      <td>Beehive</td>\n",
       "    </tr>\n",
       "    <tr>\n",
       "      <th>3</th>\n",
       "      <td>NGC2168</td>\n",
       "      <td>NGC2168</td>\n",
       "      <td>None</td>\n",
       "      <td>M35</td>\n",
       "      <td>None</td>\n",
       "    </tr>\n",
       "    <tr>\n",
       "      <th>4</th>\n",
       "      <td>NGC2099</td>\n",
       "      <td>NGC2099</td>\n",
       "      <td>None</td>\n",
       "      <td>M37</td>\n",
       "      <td>None</td>\n",
       "    </tr>\n",
       "  </tbody>\n",
       "</table>\n",
       "</div>"
      ],
      "text/plain": [
       "  Actual Names NGC_names Mel_names M_names Common_name\n",
       "0        Mel12    NGC752     Mel12    None        None\n",
       "1        Mel25      None     Mel25    None      Hiades\n",
       "2      NGC2632   NGC2632     Mel88     M44     Beehive\n",
       "3      NGC2168   NGC2168      None     M35        None\n",
       "4      NGC2099   NGC2099      None     M37        None"
      ]
     },
     "execution_count": 8,
     "metadata": {},
     "output_type": "execute_result"
    }
   ],
   "source": [
    "clusternames_cols = clusters_names.columns.tolist()\n",
    "\n",
    "for col in clusternames_cols:\n",
    "    clusters_names[col] = clusters_names[col].apply(remove_spaces)\n",
    "clusters_names.head(5)"
   ]
  },
  {
   "cell_type": "markdown",
   "metadata": {},
   "source": [
    "Eliminamos las filas repetidas usando la columna NGC_names, ya que es donde más nombres encontramos. Hay que tener en cuenta que no se aplique la eliminación de duplicados a las filas donde NGC_names sea None"
   ]
  },
  {
   "cell_type": "code",
   "execution_count": 9,
   "metadata": {},
   "outputs": [
    {
     "data": {
      "text/html": [
       "<div>\n",
       "<style scoped>\n",
       "    .dataframe tbody tr th:only-of-type {\n",
       "        vertical-align: middle;\n",
       "    }\n",
       "\n",
       "    .dataframe tbody tr th {\n",
       "        vertical-align: top;\n",
       "    }\n",
       "\n",
       "    .dataframe thead th {\n",
       "        text-align: right;\n",
       "    }\n",
       "</style>\n",
       "<table border=\"1\" class=\"dataframe\">\n",
       "  <thead>\n",
       "    <tr style=\"text-align: right;\">\n",
       "      <th></th>\n",
       "      <th>Actual Names</th>\n",
       "      <th>NGC_names</th>\n",
       "      <th>Mel_names</th>\n",
       "      <th>M_names</th>\n",
       "      <th>Common_name</th>\n",
       "    </tr>\n",
       "  </thead>\n",
       "  <tbody>\n",
       "    <tr>\n",
       "      <th>0</th>\n",
       "      <td>Mel12</td>\n",
       "      <td>NGC752</td>\n",
       "      <td>Mel12</td>\n",
       "      <td>None</td>\n",
       "      <td>None</td>\n",
       "    </tr>\n",
       "    <tr>\n",
       "      <th>1</th>\n",
       "      <td>NGC2632</td>\n",
       "      <td>NGC2632</td>\n",
       "      <td>Mel88</td>\n",
       "      <td>M44</td>\n",
       "      <td>Beehive</td>\n",
       "    </tr>\n",
       "    <tr>\n",
       "      <th>2</th>\n",
       "      <td>NGC2168</td>\n",
       "      <td>NGC2168</td>\n",
       "      <td>None</td>\n",
       "      <td>M35</td>\n",
       "      <td>None</td>\n",
       "    </tr>\n",
       "    <tr>\n",
       "      <th>3</th>\n",
       "      <td>NGC2099</td>\n",
       "      <td>NGC2099</td>\n",
       "      <td>None</td>\n",
       "      <td>M37</td>\n",
       "      <td>None</td>\n",
       "    </tr>\n",
       "    <tr>\n",
       "      <th>4</th>\n",
       "      <td>NGC1746</td>\n",
       "      <td>NGC1746</td>\n",
       "      <td>None</td>\n",
       "      <td>None</td>\n",
       "      <td>None</td>\n",
       "    </tr>\n",
       "  </tbody>\n",
       "</table>\n",
       "</div>"
      ],
      "text/plain": [
       "  Actual Names NGC_names Mel_names M_names Common_name\n",
       "0        Mel12    NGC752     Mel12    None        None\n",
       "1      NGC2632   NGC2632     Mel88     M44     Beehive\n",
       "2      NGC2168   NGC2168      None     M35        None\n",
       "3      NGC2099   NGC2099      None     M37        None\n",
       "4      NGC1746   NGC1746      None    None        None"
      ]
     },
     "execution_count": 9,
     "metadata": {},
     "output_type": "execute_result"
    }
   ],
   "source": [
    "Name_equival = replicates_rows(clusters_names, 'NGC_names')\n",
    "Name_equival.head(5)"
   ]
  },
  {
   "cell_type": "code",
   "execution_count": 10,
   "metadata": {},
   "outputs": [],
   "source": [
    "Name_equival.to_csv('../Samples/Clean/NamesCatalogEquivalence.csv')"
   ]
  },
  {
   "cell_type": "markdown",
   "metadata": {},
   "source": [
    "Trabajaremos siempre que sea posible con el NGC_name. En los casos en los que no tenemos NGC_name, se trabajará con el Actual Name.Entonces:\n",
    "1. Tanto en la columna Cluster del dataset como en las columnas de la tabla clusters_names, eliminaremos los espacios.\n",
    "2. Recorremos el dataset de estrellas y allá donde la columna Cluster no tiene el nombre NGC, lo tomaremos de la tabla de equivalencia de nombres y lo sustituiremos. Si no hay un nombre NGC, dejamos el que está."
   ]
  },
  {
   "cell_type": "code",
   "execution_count": 11,
   "metadata": {},
   "outputs": [],
   "source": [
    "df['Cluster'] = df['Cluster'].str.replace(r'\\s+', '', regex=True).str.strip()"
   ]
  },
  {
   "cell_type": "code",
   "execution_count": 12,
   "metadata": {},
   "outputs": [
    {
     "data": {
      "text/plain": [
       "array(['NGC752', nan, 'NGC2632', 'NGC2168', 'NGC2099', 'NGC1746',\n",
       "       'NGC1039', 'NGC1647', 'NGC2183', 'NGC1912', 'NGC2281', 'NGC2420',\n",
       "       'NGC2158', 'NGC869', 'NGC1662', 'NGC1528', 'NGC2252', 'NGC1960',\n",
       "       'NGC6205', 'NGC6819', 'NGC5272', 'NGC6171', 'M13', 'NGC7078',\n",
       "       'NGC7089', 'M3', 'M35', 'NGC5904', 'NGC5024', 'NGC2682', 'NGC6838',\n",
       "       'NGC6341', 'NGC1245', 'NGC1798', 'NGC188', 'NGC2243', 'NGC4147',\n",
       "       'NGC5466', 'NGC6791', 'NGC6811', 'NGC7789', 'Mel13', 'NGC884',\n",
       "       'NGC2532', 'NGC2808', 'NGC0104', 'NGC1904', 'NGC1851', 'NGC6266',\n",
       "       'NGC5139', 'NGC3201', 'NGC0362', 'NGC5286', 'NGC6218', 'NGC6093',\n",
       "       'NGC6254', 'NGC6293', 'NGC6388', 'NGC6522', 'NGC6441', 'NGC6541',\n",
       "       'NGC6624', 'NGC6656', 'NGC6681', 'NGC6752', 'NGC7099', 'NGC457',\n",
       "       'NGC1502', 'NGC2244', 'NGC2362', 'NGC2384', 'NGC2422', 'NGC2467',\n",
       "       'NGC3293', 'NGC4755', 'NGC6193', 'NGC7160', 'NGC1261', 'NGC6139',\n",
       "       'NGC6362', 'NGC6397', 'NGC6712'], dtype=object)"
      ]
     },
     "execution_count": 12,
     "metadata": {},
     "output_type": "execute_result"
    }
   ],
   "source": [
    "df['Cluster'] = df['Cluster'].apply(rename_clusters)\n",
    "actual_name = df['Cluster'].unique()\n",
    "actual_name"
   ]
  },
  {
   "cell_type": "markdown",
   "metadata": {},
   "source": [
    "Además, buscando en bases de datos los nombres de los clusters, hemos visto que los clusters FSR 0494 y CR 228 no existen como clusters oficiales, así que eliminaremos las filas correspondientes a estos clusters del dataset."
   ]
  },
  {
   "cell_type": "code",
   "execution_count": 13,
   "metadata": {},
   "outputs": [],
   "source": [
    "nonfinderdlusters = ['FSR0494','CR228']\n",
    "df = df.query('Cluster not in @nonfinderdlusters')"
   ]
  },
  {
   "cell_type": "code",
   "execution_count": 14,
   "metadata": {},
   "outputs": [
    {
     "data": {
      "text/html": [
       "<div>\n",
       "<style scoped>\n",
       "    .dataframe tbody tr th:only-of-type {\n",
       "        vertical-align: middle;\n",
       "    }\n",
       "\n",
       "    .dataframe tbody tr th {\n",
       "        vertical-align: top;\n",
       "    }\n",
       "\n",
       "    .dataframe thead th {\n",
       "        text-align: right;\n",
       "    }\n",
       "</style>\n",
       "<table border=\"1\" class=\"dataframe\">\n",
       "  <thead>\n",
       "    <tr style=\"text-align: right;\">\n",
       "      <th></th>\n",
       "      <th>_Glon</th>\n",
       "      <th>_Glat</th>\n",
       "      <th>_RAJ2000</th>\n",
       "      <th>_DEJ2000</th>\n",
       "      <th>Cluster</th>\n",
       "    </tr>\n",
       "  </thead>\n",
       "  <tbody>\n",
       "    <tr>\n",
       "      <th>0</th>\n",
       "      <td>136.163369</td>\n",
       "      <td>-23.291857</td>\n",
       "      <td>28.329417</td>\n",
       "      <td>37.984833</td>\n",
       "      <td>NGC752</td>\n",
       "    </tr>\n",
       "    <tr>\n",
       "      <th>1</th>\n",
       "      <td>136.390938</td>\n",
       "      <td>-23.836403</td>\n",
       "      <td>28.405333</td>\n",
       "      <td>37.404806</td>\n",
       "      <td>NGC752</td>\n",
       "    </tr>\n",
       "    <tr>\n",
       "      <th>2</th>\n",
       "      <td>136.386537</td>\n",
       "      <td>-23.211326</td>\n",
       "      <td>28.607250</td>\n",
       "      <td>38.009139</td>\n",
       "      <td>NGC752</td>\n",
       "    </tr>\n",
       "    <tr>\n",
       "      <th>3</th>\n",
       "      <td>136.553405</td>\n",
       "      <td>-23.705483</td>\n",
       "      <td>28.629333</td>\n",
       "      <td>37.492111</td>\n",
       "      <td>NGC752</td>\n",
       "    </tr>\n",
       "    <tr>\n",
       "      <th>4</th>\n",
       "      <td>136.587727</td>\n",
       "      <td>-23.750297</td>\n",
       "      <td>28.652583</td>\n",
       "      <td>37.440583</td>\n",
       "      <td>NGC752</td>\n",
       "    </tr>\n",
       "  </tbody>\n",
       "</table>\n",
       "</div>"
      ],
      "text/plain": [
       "        _Glon      _Glat   _RAJ2000   _DEJ2000 Cluster\n",
       "0  136.163369 -23.291857  28.329417  37.984833  NGC752\n",
       "1  136.390938 -23.836403  28.405333  37.404806  NGC752\n",
       "2  136.386537 -23.211326  28.607250  38.009139  NGC752\n",
       "3  136.553405 -23.705483  28.629333  37.492111  NGC752\n",
       "4  136.587727 -23.750297  28.652583  37.440583  NGC752"
      ]
     },
     "execution_count": 14,
     "metadata": {},
     "output_type": "execute_result"
    }
   ],
   "source": [
    "df.to_csv('../Samples/RenamedClusters.csv')\n",
    "df.head(5)"
   ]
  },
  {
   "cell_type": "code",
   "execution_count": 15,
   "metadata": {},
   "outputs": [
    {
     "name": "stdout",
     "output_type": "stream",
     "text": [
      "Rows: 992227\n",
      "Columns: 5\n",
      "+----------+----------------+------------+-----------+---------------+\n",
      "|          | Non-Null Count | Null Count | Data Type | Data Category |\n",
      "+----------+----------------+------------+-----------+---------------+\n",
      "|  _Glon   |     992225     |     2      |  float64  |   Numerical   |\n",
      "|  _Glat   |     992225     |     2      |  float64  |   Numerical   |\n",
      "| _RAJ2000 |     992225     |     2      |  float64  |   Numerical   |\n",
      "| _DEJ2000 |     992225     |     2      |  float64  |   Numerical   |\n",
      "| Cluster  |     990893     |    1334    |  object   |  Categorical  |\n",
      "+----------+----------------+------------+-----------+---------------+\n"
     ]
    }
   ],
   "source": [
    "n,c = EDA.explore(df)"
   ]
  },
  {
   "cell_type": "markdown",
   "metadata": {},
   "source": [
    "Ahora con este dataframe haremos un merge en la base de datos de Gaia DR3 mediante el software TopCat. Lo que hace este software es:\n",
    "1. Accede a la base de datos de la misión espacial Gaia, en su versión más actualiada (DR3).\n",
    "2. Usando las coordenadas que situan a cada estrella en el cielo (_RAJ2000 y _DEJ2000 en nuestro dataset), va a buscar nuestras estrellas en la base de datos.\n",
    "3. Agregará para cada estrella las columnas con todos los datos y características que tenga sobre ellas. \n",
    "\n",
    ">El dataset resultante pesa mucho asi que esta comprimido en distintas partes. Para obtenerlo hay que descomprimirlos en la carpeta ../Samples/"
   ]
  },
  {
   "cell_type": "code",
   "execution_count": 16,
   "metadata": {},
   "outputs": [],
   "source": [
    "#decompress_volumes('STARSSample', '../Samples', '../Samples/Compressed') TODO descomentar\n",
    "\n",
    "# Alternativamente el dataset esta en esta carpeta de drive:\n",
    "# https://drive.google.com/drive/folders/1ac8yV0D-KNRFOH3jnlYUnNfeU6bkZc8S"
   ]
  },
  {
   "cell_type": "markdown",
   "metadata": {},
   "source": [
    "## 2. ClustersInfo explore\n",
    "\n",
    "Como se ha visto que faltan datos para algunas de las estrellas, vamos a intentar obtener la información que nos falta de otras fuentes. Para ello contruímos el dataset ClustersInfo. Esto se hace a partir de la base de datos SIMBAD, que es una base de datos con información sobre muchos de los objetos del cielo. \n",
    "1. Se buscan los cúmulos que tenemos en nuestro dataset.\n",
    "2. Se toma la información disponible y se construye el dataset.\n",
    "\n",
    "De esta forma, ClustersInfo contiene información general sobre el cúmulo. Es importante ya que con ella vamos a poder reemplazar información que falte en STARSSample e identificar los clusters que obtengamos."
   ]
  },
  {
   "cell_type": "code",
   "execution_count": 17,
   "metadata": {},
   "outputs": [
    {
     "data": {
      "text/html": [
       "<div>\n",
       "<style scoped>\n",
       "    .dataframe tbody tr th:only-of-type {\n",
       "        vertical-align: middle;\n",
       "    }\n",
       "\n",
       "    .dataframe tbody tr th {\n",
       "        vertical-align: top;\n",
       "    }\n",
       "\n",
       "    .dataframe thead th {\n",
       "        text-align: right;\n",
       "    }\n",
       "</style>\n",
       "<table border=\"1\" class=\"dataframe\">\n",
       "  <thead>\n",
       "    <tr style=\"text-align: right;\">\n",
       "      <th></th>\n",
       "      <th>Cluster</th>\n",
       "      <th>RAJ2000</th>\n",
       "      <th>DEJ2000</th>\n",
       "      <th>GLON</th>\n",
       "      <th>GLAT</th>\n",
       "      <th>RV (km/s)</th>\n",
       "      <th>pmRA (mas/yr)</th>\n",
       "      <th>pmDE (mas/yr)</th>\n",
       "      <th>Plx (mas)</th>\n",
       "    </tr>\n",
       "  </thead>\n",
       "  <tbody>\n",
       "    <tr>\n",
       "      <th>0</th>\n",
       "      <td>NGC 752</td>\n",
       "      <td>01 56 53.5</td>\n",
       "      <td>37 47 38</td>\n",
       "      <td>136.958</td>\n",
       "      <td>-23.28</td>\n",
       "      <td>5.44</td>\n",
       "      <td>98.092</td>\n",
       "      <td>-117.637</td>\n",
       "      <td>22.304</td>\n",
       "    </tr>\n",
       "    <tr>\n",
       "      <th>1</th>\n",
       "      <td>Mel25</td>\n",
       "      <td>04 29 47.3</td>\n",
       "      <td>16 56 53</td>\n",
       "      <td>179.627</td>\n",
       "      <td>-21.124</td>\n",
       "      <td>37.97</td>\n",
       "      <td>104.920</td>\n",
       "      <td>-28.000</td>\n",
       "      <td>21.052</td>\n",
       "    </tr>\n",
       "    <tr>\n",
       "      <th>2</th>\n",
       "      <td>NGC 2632</td>\n",
       "      <td>08 40 13.0</td>\n",
       "      <td>19 37 16</td>\n",
       "      <td>205.952</td>\n",
       "      <td>32.427</td>\n",
       "      <td>34.94</td>\n",
       "      <td>-36.047</td>\n",
       "      <td>-12.917</td>\n",
       "      <td>5.371</td>\n",
       "    </tr>\n",
       "    <tr>\n",
       "      <th>3</th>\n",
       "      <td>NGC 2168</td>\n",
       "      <td>06 09 05.3</td>\n",
       "      <td>24 20 10</td>\n",
       "      <td>186.609</td>\n",
       "      <td>2.230</td>\n",
       "      <td>-6.37</td>\n",
       "      <td>22.784</td>\n",
       "      <td>-29.336</td>\n",
       "      <td>11.301</td>\n",
       "    </tr>\n",
       "    <tr>\n",
       "      <th>4</th>\n",
       "      <td>NGC 2099</td>\n",
       "      <td>05 52 17.8</td>\n",
       "      <td>32 32 42</td>\n",
       "      <td>177.64</td>\n",
       "      <td>3.086</td>\n",
       "      <td>7.70</td>\n",
       "      <td>1.924</td>\n",
       "      <td>-5.648</td>\n",
       "      <td>666.000</td>\n",
       "    </tr>\n",
       "  </tbody>\n",
       "</table>\n",
       "</div>"
      ],
      "text/plain": [
       "    Cluster     RAJ2000   DEJ2000     GLON     GLAT  RV (km/s)  pmRA (mas/yr)  \\\n",
       "0   NGC 752  01 56 53.5  37 47 38  136.958   -23.28       5.44         98.092   \n",
       "1     Mel25  04 29 47.3  16 56 53  179.627  -21.124      37.97        104.920   \n",
       "2  NGC 2632  08 40 13.0  19 37 16  205.952   32.427      34.94        -36.047   \n",
       "3  NGC 2168  06 09 05.3  24 20 10  186.609    2.230      -6.37         22.784   \n",
       "4  NGC 2099  05 52 17.8  32 32 42   177.64    3.086       7.70          1.924   \n",
       "\n",
       "   pmDE (mas/yr)  Plx (mas)  \n",
       "0       -117.637     22.304  \n",
       "1        -28.000     21.052  \n",
       "2        -12.917      5.371  \n",
       "3        -29.336     11.301  \n",
       "4         -5.648    666.000  "
      ]
     },
     "execution_count": 17,
     "metadata": {},
     "output_type": "execute_result"
    }
   ],
   "source": [
    "clusters_info = pd.read_csv('../Samples/ClustersInfo.csv', delimiter=';')\n",
    "clusters_info.head(5)"
   ]
  },
  {
   "cell_type": "markdown",
   "metadata": {},
   "source": [
    "Tenemos indicativos de tabulador en algunas celdas. Limpiamos esto:"
   ]
  },
  {
   "cell_type": "code",
   "execution_count": 18,
   "metadata": {},
   "outputs": [
    {
     "data": {
      "text/html": [
       "<div>\n",
       "<style scoped>\n",
       "    .dataframe tbody tr th:only-of-type {\n",
       "        vertical-align: middle;\n",
       "    }\n",
       "\n",
       "    .dataframe tbody tr th {\n",
       "        vertical-align: top;\n",
       "    }\n",
       "\n",
       "    .dataframe thead th {\n",
       "        text-align: right;\n",
       "    }\n",
       "</style>\n",
       "<table border=\"1\" class=\"dataframe\">\n",
       "  <thead>\n",
       "    <tr style=\"text-align: right;\">\n",
       "      <th></th>\n",
       "      <th>Cluster</th>\n",
       "      <th>RAJ2000</th>\n",
       "      <th>DEJ2000</th>\n",
       "      <th>GLON</th>\n",
       "      <th>GLAT</th>\n",
       "      <th>RV (km/s)</th>\n",
       "      <th>pmRA (mas/yr)</th>\n",
       "      <th>pmDE (mas/yr)</th>\n",
       "      <th>Plx (mas)</th>\n",
       "    </tr>\n",
       "  </thead>\n",
       "  <tbody>\n",
       "    <tr>\n",
       "      <th>0</th>\n",
       "      <td>NGC 752</td>\n",
       "      <td>01 56 53.5</td>\n",
       "      <td>37 47 38</td>\n",
       "      <td>136.958</td>\n",
       "      <td>-23.28</td>\n",
       "      <td>5.44</td>\n",
       "      <td>98.092</td>\n",
       "      <td>-117.637</td>\n",
       "      <td>22.304</td>\n",
       "    </tr>\n",
       "    <tr>\n",
       "      <th>1</th>\n",
       "      <td>Mel25</td>\n",
       "      <td>04 29 47.3</td>\n",
       "      <td>16 56 53</td>\n",
       "      <td>179.627</td>\n",
       "      <td>-21.124</td>\n",
       "      <td>37.97</td>\n",
       "      <td>104.920</td>\n",
       "      <td>-28.000</td>\n",
       "      <td>21.052</td>\n",
       "    </tr>\n",
       "    <tr>\n",
       "      <th>2</th>\n",
       "      <td>NGC 2632</td>\n",
       "      <td>08 40 13.0</td>\n",
       "      <td>19 37 16</td>\n",
       "      <td>205.952</td>\n",
       "      <td>32.427</td>\n",
       "      <td>34.94</td>\n",
       "      <td>-36.047</td>\n",
       "      <td>-12.917</td>\n",
       "      <td>5.371</td>\n",
       "    </tr>\n",
       "    <tr>\n",
       "      <th>3</th>\n",
       "      <td>NGC 2168</td>\n",
       "      <td>06 09 05.3</td>\n",
       "      <td>24 20 10</td>\n",
       "      <td>186.609</td>\n",
       "      <td>2.230</td>\n",
       "      <td>-6.37</td>\n",
       "      <td>22.784</td>\n",
       "      <td>-29.336</td>\n",
       "      <td>11.301</td>\n",
       "    </tr>\n",
       "    <tr>\n",
       "      <th>4</th>\n",
       "      <td>NGC 2099</td>\n",
       "      <td>05 52 17.8</td>\n",
       "      <td>32 32 42</td>\n",
       "      <td>177.64</td>\n",
       "      <td>3.086</td>\n",
       "      <td>7.70</td>\n",
       "      <td>1.924</td>\n",
       "      <td>-5.648</td>\n",
       "      <td>666.000</td>\n",
       "    </tr>\n",
       "  </tbody>\n",
       "</table>\n",
       "</div>"
      ],
      "text/plain": [
       "    Cluster     RAJ2000   DEJ2000     GLON     GLAT  RV (km/s)  pmRA (mas/yr)  \\\n",
       "0   NGC 752  01 56 53.5  37 47 38  136.958   -23.28       5.44         98.092   \n",
       "1     Mel25  04 29 47.3  16 56 53  179.627  -21.124      37.97        104.920   \n",
       "2  NGC 2632  08 40 13.0  19 37 16  205.952   32.427      34.94        -36.047   \n",
       "3  NGC 2168  06 09 05.3  24 20 10  186.609    2.230      -6.37         22.784   \n",
       "4  NGC 2099  05 52 17.8  32 32 42   177.64    3.086       7.70          1.924   \n",
       "\n",
       "   pmDE (mas/yr)  Plx (mas)  \n",
       "0       -117.637     22.304  \n",
       "1        -28.000     21.052  \n",
       "2        -12.917      5.371  \n",
       "3        -29.336     11.301  \n",
       "4         -5.648    666.000  "
      ]
     },
     "execution_count": 18,
     "metadata": {},
     "output_type": "execute_result"
    }
   ],
   "source": [
    "clusters_info = clusters_info.map(remove_tabs)\n",
    "clusters_info.head(5)"
   ]
  },
  {
   "cell_type": "markdown",
   "metadata": {},
   "source": [
    "Hay que hacer el mismo tratamiento para los nombres que con STARSSample:\n",
    "1. Eliminar espacios\n",
    "2. Sustituir por los nombres que hemos dejado en STARSSample"
   ]
  },
  {
   "cell_type": "code",
   "execution_count": 19,
   "metadata": {},
   "outputs": [],
   "source": [
    "clusters_info['Cluster'] = clusters_info['Cluster'].str.replace(r'\\s+', '', regex=True).str.strip()"
   ]
  },
  {
   "cell_type": "code",
   "execution_count": 20,
   "metadata": {},
   "outputs": [
    {
     "data": {
      "text/html": [
       "<div>\n",
       "<style scoped>\n",
       "    .dataframe tbody tr th:only-of-type {\n",
       "        vertical-align: middle;\n",
       "    }\n",
       "\n",
       "    .dataframe tbody tr th {\n",
       "        vertical-align: top;\n",
       "    }\n",
       "\n",
       "    .dataframe thead th {\n",
       "        text-align: right;\n",
       "    }\n",
       "</style>\n",
       "<table border=\"1\" class=\"dataframe\">\n",
       "  <thead>\n",
       "    <tr style=\"text-align: right;\">\n",
       "      <th></th>\n",
       "      <th>Cluster</th>\n",
       "      <th>RAJ2000</th>\n",
       "      <th>DEJ2000</th>\n",
       "      <th>GLON</th>\n",
       "      <th>GLAT</th>\n",
       "      <th>RV (km/s)</th>\n",
       "      <th>pmRA (mas/yr)</th>\n",
       "      <th>pmDE (mas/yr)</th>\n",
       "      <th>Plx (mas)</th>\n",
       "    </tr>\n",
       "  </thead>\n",
       "  <tbody>\n",
       "    <tr>\n",
       "      <th>0</th>\n",
       "      <td>NGC752</td>\n",
       "      <td>01 56 53.5</td>\n",
       "      <td>37 47 38</td>\n",
       "      <td>136.958</td>\n",
       "      <td>-23.28</td>\n",
       "      <td>5.44</td>\n",
       "      <td>98.092</td>\n",
       "      <td>-117.637</td>\n",
       "      <td>22.304</td>\n",
       "    </tr>\n",
       "    <tr>\n",
       "      <th>1</th>\n",
       "      <td>NaN</td>\n",
       "      <td>04 29 47.3</td>\n",
       "      <td>16 56 53</td>\n",
       "      <td>179.627</td>\n",
       "      <td>-21.124</td>\n",
       "      <td>37.97</td>\n",
       "      <td>104.920</td>\n",
       "      <td>-28.000</td>\n",
       "      <td>21.052</td>\n",
       "    </tr>\n",
       "    <tr>\n",
       "      <th>2</th>\n",
       "      <td>NGC2632</td>\n",
       "      <td>08 40 13.0</td>\n",
       "      <td>19 37 16</td>\n",
       "      <td>205.952</td>\n",
       "      <td>32.427</td>\n",
       "      <td>34.94</td>\n",
       "      <td>-36.047</td>\n",
       "      <td>-12.917</td>\n",
       "      <td>5.371</td>\n",
       "    </tr>\n",
       "    <tr>\n",
       "      <th>3</th>\n",
       "      <td>NGC2168</td>\n",
       "      <td>06 09 05.3</td>\n",
       "      <td>24 20 10</td>\n",
       "      <td>186.609</td>\n",
       "      <td>2.230</td>\n",
       "      <td>-6.37</td>\n",
       "      <td>22.784</td>\n",
       "      <td>-29.336</td>\n",
       "      <td>11.301</td>\n",
       "    </tr>\n",
       "    <tr>\n",
       "      <th>4</th>\n",
       "      <td>NGC2099</td>\n",
       "      <td>05 52 17.8</td>\n",
       "      <td>32 32 42</td>\n",
       "      <td>177.64</td>\n",
       "      <td>3.086</td>\n",
       "      <td>7.70</td>\n",
       "      <td>1.924</td>\n",
       "      <td>-5.648</td>\n",
       "      <td>666.000</td>\n",
       "    </tr>\n",
       "  </tbody>\n",
       "</table>\n",
       "</div>"
      ],
      "text/plain": [
       "   Cluster     RAJ2000   DEJ2000     GLON     GLAT  RV (km/s)  pmRA (mas/yr)  \\\n",
       "0   NGC752  01 56 53.5  37 47 38  136.958   -23.28       5.44         98.092   \n",
       "1      NaN  04 29 47.3  16 56 53  179.627  -21.124      37.97        104.920   \n",
       "2  NGC2632  08 40 13.0  19 37 16  205.952   32.427      34.94        -36.047   \n",
       "3  NGC2168  06 09 05.3  24 20 10  186.609    2.230      -6.37         22.784   \n",
       "4  NGC2099  05 52 17.8  32 32 42   177.64    3.086       7.70          1.924   \n",
       "\n",
       "   pmDE (mas/yr)  Plx (mas)  \n",
       "0       -117.637     22.304  \n",
       "1        -28.000     21.052  \n",
       "2        -12.917      5.371  \n",
       "3        -29.336     11.301  \n",
       "4         -5.648    666.000  "
      ]
     },
     "execution_count": 20,
     "metadata": {},
     "output_type": "execute_result"
    }
   ],
   "source": [
    "clusters_info['Cluster'] = clusters_info['Cluster'].apply(rename_clusters)\n",
    "clusters_info.head(5)"
   ]
  },
  {
   "cell_type": "code",
   "execution_count": 21,
   "metadata": {},
   "outputs": [],
   "source": [
    "# Rename columns to eliminate ()\n",
    "clusters_info = clusters_info.rename(columns=lambda x: x.split('(')[0].strip())\n",
    "\n",
    "# Add distance calculate from parallax (D=1000/|Plx|)\n",
    "clusters_info['Dist'] = 1000 / clusters_info['Plx'].abs()\n",
    "\n",
    "# Drop duplicates\n",
    "clusters_info_clean = clusters_info.drop_duplicates(subset='Cluster')\n",
    "\n",
    "# Drop unused columns\n",
    "clusters_info_clean = clusters_info_clean.drop(columns=['RAJ2000','DEJ2000','GLON','GLAT'])"
   ]
  },
  {
   "cell_type": "code",
   "execution_count": 22,
   "metadata": {},
   "outputs": [],
   "source": [
    "# Save\n",
    "clusters_info_clean.to_csv('../Samples/Clean/ClustersInfo_clean.csv')"
   ]
  },
  {
   "cell_type": "markdown",
   "metadata": {},
   "source": [
    "## 3. EDA I: STARSSample explore"
   ]
  },
  {
   "cell_type": "markdown",
   "metadata": {},
   "source": [
    "Una vez que tenemos nuestro sample completo de estrellas y tenemos el sample de clusters del cual podemos obtener información, vamos a comenzar el EDA.\n",
    "\n",
    "En primer lugar haremos un tratamiento general de los datos, centrado en eliminar columnas inncecesarias y valores nulos."
   ]
  },
  {
   "cell_type": "code",
   "execution_count": 24,
   "metadata": {},
   "outputs": [
    {
     "name": "stdout",
     "output_type": "stream",
     "text": [
      "Rows: 984102\n",
      "Columns: 134\n",
      "+----------------+----------------+------------+-----------+---------------+\n",
      "|                | Non-Null Count | Null Count | Data Type | Data Category |\n",
      "+----------------+----------------+------------+-----------+---------------+\n",
      "|      col1      |     984102     |     0      |   int64   |   Numerical   |\n",
      "|     _Glon      |     984102     |     0      |  float64  |   Numerical   |\n",
      "|     _Glat      |     984102     |     0      |  float64  |   Numerical   |\n",
      "|    _RAJ2000    |     984102     |     0      |  float64  |   Numerical   |\n",
      "|    _DEJ2000    |     984102     |     0      |  float64  |   Numerical   |\n",
      "|    Cluster     |     984102     |     0      |  object   |  Categorical  |\n",
      "|    DR3Name     |     984102     |     0      |  object   |  Categorical  |\n",
      "|     RAdeg      |     984102     |     0      |  float64  |   Numerical   |\n",
      "|     DEdeg      |     984102     |     0      |  float64  |   Numerical   |\n",
      "|   errHalfMaj   |     984102     |     0      |  float64  |   Numerical   |\n",
      "|   errHalfMin   |     984102     |     0      |  float64  |   Numerical   |\n",
      "|   errPosAng    |     984102     |     0      |  float64  |   Numerical   |\n",
      "|     SolID      |     984102     |     0      |   int64   |   Numerical   |\n",
      "|     Source     |     984102     |     0      |   int64   |   Numerical   |\n",
      "|    RandomI     |     984102     |     0      |   int64   |   Numerical   |\n",
      "|    e_RAdeg     |     984102     |     0      |  float64  |   Numerical   |\n",
      "|    e_DEdeg     |     984102     |     0      |  float64  |   Numerical   |\n",
      "|      Plx       |     867897     |   116205   |  float64  |   Numerical   |\n",
      "|     e_Plx      |     867897     |   116205   |  float64  |   Numerical   |\n",
      "|      RPlx      |     867897     |   116205   |  float64  |   Numerical   |\n",
      "|       PM       |     867897     |   116205   |  float64  |   Numerical   |\n",
      "|      pmRA      |     867897     |   116205   |  float64  |   Numerical   |\n",
      "|     e_pmRA     |     867897     |   116205   |  float64  |   Numerical   |\n",
      "|      pmDE      |     867897     |   116205   |  float64  |   Numerical   |\n",
      "|     e_pmDE     |     867897     |   116205   |  float64  |   Numerical   |\n",
      "|    RADEcor     |     984102     |     0      |  float64  |   Numerical   |\n",
      "|    RAPlxcor    |     867897     |   116205   |  float64  |   Numerical   |\n",
      "|   RApmRAcor    |     867897     |   116205   |  float64  |   Numerical   |\n",
      "|   RApmDEcor    |     867897     |   116205   |  float64  |   Numerical   |\n",
      "|    DEPlxcor    |     867897     |   116205   |  float64  |   Numerical   |\n",
      "|   DEpmRAcor    |     867897     |   116205   |  float64  |   Numerical   |\n",
      "|   DEpmDEcor    |     867897     |   116205   |  float64  |   Numerical   |\n",
      "|   PlxpmRAcor   |     867897     |   116205   |  float64  |   Numerical   |\n",
      "|   PlxpmDEcor   |     867897     |   116205   |  float64  |   Numerical   |\n",
      "|  pmRApmDEcor   |     867897     |   116205   |  float64  |   Numerical   |\n",
      "|      NAL       |     984102     |     0      |   int64   |   Numerical   |\n",
      "|      NAC       |     984102     |     0      |   int64   |   Numerical   |\n",
      "|      NgAL      |     984102     |     0      |   int64   |   Numerical   |\n",
      "|      NbAL      |     984102     |     0      |   int64   |   Numerical   |\n",
      "|     gofAL      |     984102     |     0      |  float64  |   Numerical   |\n",
      "|     chi2AL     |     984102     |     0      |  float64  |   Numerical   |\n",
      "|      epsi      |     984102     |     0      |  float64  |   Numerical   |\n",
      "|     sepsi      |     984102     |     0      |  float64  |   Numerical   |\n",
      "|     Solved     |     984102     |     0      |   int64   |   Numerical   |\n",
      "|      APF       |     984102     |     0      |   bool    |   Numerical   |\n",
      "|     nueff      |     426356     |   557746   |  float64  |   Numerical   |\n",
      "|     pscol      |     441541     |   542561   |  float64  |   Numerical   |\n",
      "|    e_pscol     |     441541     |   542561   |  float64  |   Numerical   |\n",
      "|  RApscolCorr   |     441541     |   542561   |  float64  |   Numerical   |\n",
      "|  DEpscolCorr   |     441541     |   542561   |  float64  |   Numerical   |\n",
      "|  PlxpscolCorr  |     441541     |   542561   |  float64  |   Numerical   |\n",
      "| pmRApscolCorr  |     441541     |   542561   |  float64  |   Numerical   |\n",
      "| pmDEpscolCorr  |     441541     |   542561   |  float64  |   Numerical   |\n",
      "|   MatchObsA    |     984102     |     0      |   int64   |   Numerical   |\n",
      "|      Nper      |     984102     |     0      |   int64   |   Numerical   |\n",
      "|      amax      |     984102     |     0      |  float64  |   Numerical   |\n",
      "|    MatchObs    |     984102     |     0      |   int64   |   Numerical   |\n",
      "|    IPDgofha    |     984102     |     0      |  float64  |   Numerical   |\n",
      "|    IPDgofhp    |     984102     |     0      |  float64  |   Numerical   |\n",
      "|     IPDfmp     |     984102     |     0      |   int64   |   Numerical   |\n",
      "|     IPDfow     |     984102     |     0      |   int64   |   Numerical   |\n",
      "|      RUWE      |     867897     |   116205   |  float64  |   Numerical   |\n",
      "|      Dup       |     984102     |     0      |   int64   |   Numerical   |\n",
      "|     o_Gmag     |     984102     |     0      |   int64   |   Numerical   |\n",
      "|       FG       |     982769     |    1333    |  float64  |   Numerical   |\n",
      "|      e_FG      |     982769     |    1333    |  float64  |   Numerical   |\n",
      "|      RFG       |     982769     |    1333    |  float64  |   Numerical   |\n",
      "|      Gmag      |     982769     |    1333    |  float64  |   Numerical   |\n",
      "|     e_Gmag     |     982769     |    1333    |  float64  |   Numerical   |\n",
      "|    o_BPmag     |     984102     |     0      |   int64   |   Numerical   |\n",
      "|      FBP       |     867344     |   116758   |  float64  |   Numerical   |\n",
      "|     e_FBP      |     867344     |   116758   |  float64  |   Numerical   |\n",
      "|      RFBP      |     867344     |   116758   |  float64  |   Numerical   |\n",
      "|     BPmag      |     867344     |   116758   |  float64  |   Numerical   |\n",
      "|    e_BPmag     |     867344     |   116758   |  float64  |   Numerical   |\n",
      "|    o_RPmag     |     984102     |     0      |   int64   |   Numerical   |\n",
      "|      FRP       |     869724     |   114378   |  float64  |   Numerical   |\n",
      "|     e_FRP      |     869724     |   114378   |  float64  |   Numerical   |\n",
      "|      RFRP      |     869724     |   114378   |  float64  |   Numerical   |\n",
      "|     RPmag      |     869724     |   114378   |  float64  |   Numerical   |\n",
      "|    e_RPmag     |     869724     |   114378   |  float64  |   Numerical   |\n",
      "|    E(BP/RP)    |     866851     |   117251   |  float64  |   Numerical   |\n",
      "|    NBPcont     |     867344     |   116758   |  float64  |   Numerical   |\n",
      "|    NBPblend    |     867344     |   116758   |  float64  |   Numerical   |\n",
      "|    NRPcont     |     869724     |   114378   |  float64  |   Numerical   |\n",
      "|    NRPblend    |     869724     |   114378   |  float64  |   Numerical   |\n",
      "|      Mode      |     983470     |    632     |  float64  |   Numerical   |\n",
      "|     BP-RP      |     866851     |   117251   |  float64  |   Numerical   |\n",
      "|      BP-G      |     867342     |   116760   |  float64  |   Numerical   |\n",
      "|      G-RP      |     869025     |   115077   |  float64  |   Numerical   |\n",
      "|       RV       |     20806      |   963296   |  float64  |   Numerical   |\n",
      "|      e_RV      |     20806      |   963296   |  float64  |   Numerical   |\n",
      "|      n_RV      |     20806      |   963296   |  float64  |   Numerical   |\n",
      "|      o_RV      |     20806      |   963296   |  float64  |   Numerical   |\n",
      "|     o_RVd      |     20806      |   963296   |  float64  |   Numerical   |\n",
      "|     RVNper     |     20806      |   963296   |  float64  |   Numerical   |\n",
      "|     RVS/N      |     20806      |   963296   |  float64  |   Numerical   |\n",
      "|     RVgof      |      5605      |   978497   |  float64  |   Numerical   |\n",
      "|     RVchi2     |      5528      |   978574   |  float64  |   Numerical   |\n",
      "|     RVTdur     |     20806      |   963296   |  float64  |   Numerical   |\n",
      "|     RVamp      |      5528      |   978574   |  float64  |   Numerical   |\n",
      "|   RVtempTeff   |     20806      |   963296   |  float64  |   Numerical   |\n",
      "|   RVtemplogg   |     20806      |   963296   |  float64  |   Numerical   |\n",
      "|  RVtemp[Fe/H]  |     20806      |   963296   |  float64  |   Numerical   |\n",
      "|   Vatmparam    |     20806      |   963296   |  float64  |   Numerical   |\n",
      "|     vbroad     |      2839      |   981263   |  float64  |   Numerical   |\n",
      "|    e_Vbroad    |      2839      |   981263   |  float64  |   Numerical   |\n",
      "|    o_Vbroad    |      2839      |   981263   |  float64  |   Numerical   |\n",
      "|    GRVSmag     |     19897      |   964205   |  float64  |   Numerical   |\n",
      "|   e_GRVSmag    |     19897      |   964205   |  float64  |   Numerical   |\n",
      "|   o_GRVSmag    |     19897      |   964205   |  float64  |   Numerical   |\n",
      "|     RVSS/N     |      1398      |   982704   |  float64  |   Numerical   |\n",
      "|    VarFlag     |     984102     |     0      |  object   |  Categorical  |\n",
      "|      PQSO      |     887866     |   96236    |  float64  |   Numerical   |\n",
      "|      PGal      |     887866     |   96236    |  float64  |   Numerical   |\n",
      "|      PSS       |     887866     |   96236    |  float64  |   Numerical   |\n",
      "|      Teff      |     287297     |   696805   |  float64  |   Numerical   |\n",
      "|      logg      |     287297     |   696805   |  float64  |   Numerical   |\n",
      "|     [Fe/H]     |     287297     |   696805   |  float64  |   Numerical   |\n",
      "|      Dist      |     287297     |   696805   |  float64  |   Numerical   |\n",
      "|       A0       |     287297     |   696805   |  float64  |   Numerical   |\n",
      "|       AG       |     287297     |   696805   |  float64  |   Numerical   |\n",
      "|    E(BP-RP)    |     287297     |   696805   |  float64  |   Numerical   |\n",
      "|      Lib       |     287297     |   696805   |  object   |  Categorical  |\n",
      "|    RAJ2000     |     984102     |     0      |  float64  |   Numerical   |\n",
      "|    DEJ2000     |     984102     |     0      |  float64  |   Numerical   |\n",
      "|   e_RAJ2000    |     984102     |     0      |  float64  |   Numerical   |\n",
      "|   e_DEJ2000    |     984102     |     0      |  float64  |   Numerical   |\n",
      "|  RADEcorJ2000  |     984102     |     0      |  float64  |   Numerical   |\n",
      "|    angDist     |     984102     |     0      |  float64  |   Numerical   |\n",
      "| CartesianCoord |     984102     |     0      |  object   |  Categorical  |\n",
      "|       X        |     867897     |   116205   |  float64  |   Numerical   |\n",
      "|       Y        |     867897     |   116205   |  float64  |   Numerical   |\n",
      "|       Z        |     867897     |   116205   |  float64  |   Numerical   |\n",
      "+----------------+----------------+------------+-----------+---------------+\n",
      "Do it\n"
     ]
    }
   ],
   "source": [
    "stars_df = pd.read_csv('../Samples/STARSSample.csv')\n",
    "num, cat = EDA.explore(stars_df)\n",
    "print('Do it')"
   ]
  },
  {
   "cell_type": "markdown",
   "metadata": {},
   "source": [
    "Definición de las columnas:\n",
    "- col1: índice\n",
    "- _Glon: coordenada longitud galáctica. Ángulo sobre el disco de la galaxia desde la dirección del centro galáctico hasta la vertical de la estrella.\n",
    "- _Glat: coordenada latitud galáctica. Ángulo desde el disco galactico hasta la estrella.\n",
    "- _RAJ2000: coordenada ascensión recta de la época 2000. Ángulo sobre el ecuador desde el punto vernal hasta la vertical de la estrella.\n",
    "- _DEJ2000: coordenada declinación de la época 2000. Ángulo desde el ecuador hasta la estrella.\n",
    "- Cluster: Nombre del cúmulo al que pertenece la estrella.\n",
    "- DR3Name: Nombre de la estrella en el catálogo DR3 de Gaia.\n",
    "- RAdeg: igual que _RAJ2000\n",
    "- DEdeg: igual que _DEJ2000\n",
    "- *errHalfMaj, *errHalfMin, *errPosAng: errores de la medida de la posición.\n",
    "- *SolID, *Source, *RandomI: otros identificadores.\n",
    "- e_RAdeg, e_DEdeg: errores en la medida de ascensión recta y declinación.\n",
    "- Plx: paralaje. Es el dato que necesitamos para obtener la distancia.\n",
    "- e_Plx: error en la medida del paralaje.\n",
    "- RPlx: paralaje dividido por su desviación estándar.\n",
    "- PM: movimiento propio.\n",
    "- pmRA: velocidad de la estrella en su movimiento propio respecto al centro de la galaxia en la coordenada ascensión recta. Medido en mas/yr.\n",
    "- e_pmRA: error en la medida de pmRA.\n",
    "- pmDE: velocidad de la estrella en su movimiento propio respecto al centro de la galaxia en la coordenada declinación. Medido en mas/yr.\n",
    "- e_pmDE: error en la medida de pmDE.\n",
    "- RADEcor, RAPlxcor,RApmRAcor,RApmDEcor, DEPlxcor, DEpmRAcor,DEpmDEcor, PlxpmRAcor,PlxpmDEcor, pmRApmDEcor: correlaciones entre magnitudes.\n",
    "- NAL, NAC: número total de observaciones en diferentes longitudes de onda.\n",
    "- NgAL, NgAL: número de buenas observaciones en diferentes longitudes de onda.\n",
    "- *gofAL, *chi2AL: estádisticas de la bondad de las observaciones.\n",
    "- epsi, sepsi: exceso de ruido en la observación de la fuente y su significancia.\n",
    "- *Solved: parámetros astrométricos resueltos.\n",
    "- *APF: astrometría primaria o secundaria.\n",
    "- *nueff: número de onda efectivo usado en la solución astrométrica.\n",
    "- pscol: pseudocolor estimado astrométricamente.\n",
    "- e_pscol: error en la medida de pscol.\n",
    "- RApscolCorr, DEpscolCorr, PlxpscolCorr,pmRApscolCorr,pmDEpscolCorr: correlaciones entre las variables.\n",
    "- *MatchObsA: tránsitos encontrados en FOV usando la solución AGIS.\n",
    "- Nper: número de periodos de visibilidad usados en la solución astrométrica.\n",
    "- amax: eje semimayor del elipsoide de error.\n",
    "- *IPDgofha: amplitud del GoF IPD.\n",
    "- MatchObs: número total de tránsitos.\n",
    "- *IPDgofhp: fase del GoF IPD.\n",
    "- *IPDfmp: porcentaje de éxito de la ventana IPD.\n",
    "- *IPDfow: porcentaje de tránsitos fallidos.\n",
    "- RUWE: error de peso normalizado.\n",
    "- *Dup: si es una fuente con múltiples identificadores.\n",
    "- o_Gmag: número de tránsitos que contibuyen a la medida del flujo en Gmag.\n",
    "- FG: flujo medio en la banda G.\n",
    "- e_FG: error de FG.\n",
    "- RFG: FG dividido por su error.\n",
    "- Gmag: magnitud en la banda G.\n",
    "- e_Gmag: error de Gmag.\n",
    "- o_BPmag: numero de observaciones que contribuye a fotometría BP.\n",
    "- FBP: flujo medio en la banda BP.\n",
    "- e_FBP: error de FBP.\n",
    "- RFBP: FBP dividido por su error.\n",
    "- BPmag: magnitud en la banda BP.\n",
    "- e_BPmag: error de BPmag.\n",
    "- o_RPmag: numero de tránsitos que contribuye a la fotometría RP.\n",
    "- FRP: flujo medio en la banda RP.\n",
    "- e_FRP: error de FRP.\n",
    "- RFRP: FRP dividido por su error.\n",
    "- RPmag: magnitud en la banda RP.\n",
    "- e_RPmag: error de RPmag.\n",
    "- E(BP/RP): factor de exceso de color en BP/RP.\n",
    "- NBPcont, NRPcont: numero de tránsitos contaminados en cada banda.\n",
    "- NBPblend, NRPblend: número de tránsitos mezclados en cada banda.\n",
    "- *Mode: modo de procesamiento de la fotometría.\n",
    "- BP-RP, BP-G,G-RP: colores en diferentes bandas.\n",
    "- RV: velocidad radial.\n",
    "- e_RV: error de la velocidad radial.\n",
    "- *n_RV: método usado para obtener la velocidad radial.\n",
    "- o_RV: número de tránsitos usados para obtener la velocidad radial.\n",
    "- o_RVd: número de tránsitos válidos.\n",
    "- RVNper: número de periodos de visibilidad usados para obtener la velocidad radial.\n",
    "- RVS/N: ratio de ruido en la señal espectral para obtener la velocidad radial.\n",
    "- *RVgof, *RVchi2: estadísticas en el cálculo de RV.\n",
    "- *RVTdur: tiempo cubierto en la serie temporal de velocidad radial.\n",
    "- *RVamp: amplitud máxima en la serie temporal de velocidad una vez eliminados los outliers.\n",
    "- RVtempTeff: temperatura efectiva del modelo usado para calcular la velocidad radial.\n",
    "- RVtemplogg: logaritmo de la temperatura efectiva.\n",
    "- RVtemp[Fe/H]: metalicidad del modelo usado para calcular la temperatura efectiva.\n",
    "- Vatmparam: origen de los parámetros atmoféricos asociados al modelo.\n",
    "- vbroad: líneas espectrales ampliadas.\n",
    "- e_Vbroad: error de vbroad.\n",
    "- o_Vbroad: número de tránsitos usados para calcular vbroad.\n",
    "- GRVSmag: magnitud Grvs.\n",
    "- e_GRVSmag: error de GRVSmag.\n",
    "- o_GRVSmag: número de tránsitos usados para calcular o_GRVSmag.\n",
    "- RVSS/N: ratio de señal/ruido en el espectro de RVS.\n",
    "- *VarFlag: marcador de variabilidad fotométrica.\n",
    "- PQSO: probabilidad de que sea un quásar.\n",
    "- PGal: probabilidad de que sea una galaxia.\n",
    "- PSS: probabilidad de que sea una única estrella.\n",
    "- Teff: temperatura efectiva con la banda BP/RP.\n",
    "- logg: gravedad en la superficie de la estrella con la banda BP/RP\n",
    "- \\[Fe/H]: metalicidad\n",
    "- Dist: distancia usando la banda BP/RP.\n",
    "- A0: extinción.\n",
    "- AG: extinción en la banda G.\n",
    "- E(BP-RP): enrojecimiento en la banda BP-RP.\n",
    "- *Lib: nombre de la librería usada en parámetros de astrofotometría.\n",
    "- RAJ2000: igual que _RAJ2000\n",
    "- DEJ2000: igual que _DEJ2000\n",
    "- *e_RAJ2000: error de RAJ2000\n",
    "- *e_DEJ2000: error deDEJ2000\n",
    "- *RADEcorj2000: corrección de época J2000\n",
    "- angDist: distancia angular.\n",
    "- *CartessianCoord: vector con las coordenadas cartesianas x,y,z\n",
    "- X: coordenada cartesiana x\n",
    "- Y: coordenada cartesiana y\n",
    "- Z: coordenada cartesiana z\n",
    "  \n",
    "> Nuestro target es la columna Clusters y el resto son variables predictoras"
   ]
  },
  {
   "cell_type": "markdown",
   "metadata": {},
   "source": [
    "### 3.1 Eliminación de las columnas repetidas\n"
   ]
  },
  {
   "cell_type": "code",
   "execution_count": 25,
   "metadata": {},
   "outputs": [
    {
     "data": {
      "text/plain": [
       "(984102, 130)"
      ]
     },
     "execution_count": 25,
     "metadata": {},
     "output_type": "execute_result"
    }
   ],
   "source": [
    "stars_df_clean = stars_df.drop(columns=['RAdeg','DEdeg','RAJ2000','DEJ2000'])\n",
    "stars_df_clean.loc[stars_df_clean['Cluster'].str.contains('NGC 869'), 'Cluster'] = 'NGC869'\n",
    "stars_df_clean.loc[stars_df_clean['Cluster'].str.contains('NGC 752'), 'Cluster'] = 'NGC752'\n",
    "stars_df_clean.loc[stars_df_clean['Cluster'].str.contains('NGC 884'), 'Cluster'] = 'NGC884'\n",
    "\n",
    "stars_df_clean.shape"
   ]
  },
  {
   "cell_type": "markdown",
   "metadata": {},
   "source": [
    "### 3.2 Eliminación de información irrelevante\n",
    "\n",
    "En nuestra experiencia,sabemos que las columnas marcadas en la definición anterior con * son irrelevantes para nuestro análisis y las quitamos."
   ]
  },
  {
   "cell_type": "code",
   "execution_count": 26,
   "metadata": {},
   "outputs": [
    {
     "data": {
      "text/plain": [
       "(984102, 100)"
      ]
     },
     "execution_count": 26,
     "metadata": {},
     "output_type": "execute_result"
    }
   ],
   "source": [
    "stars_df_clean = stars_df_clean.drop(columns=['DR3Name','errHalfMaj', 'errHalfMin', 'errPosAng', 'SolID', 'Source', 'RandomI', 'gofAL', 'chi2AL', 'Solved', 'APF', 'nueff', 'MatchObsA', 'IPDgofha', 'IPDgofhp', 'IPDfmp', 'IPDfow', 'Dup', 'Mode', 'n_RV', 'RVgof', 'RVchi2', 'RVTdur', 'RVamp', 'VarFlag', 'Lib', 'e_RAJ2000','e_DEJ2000','e_DEJ2000','RADEcorJ2000', 'CartesianCoord'])\n",
    "stars_df_clean.shape"
   ]
  },
  {
   "cell_type": "markdown",
   "metadata": {},
   "source": [
    "### 3.3 Uso de información para eliminar filas erróneas\n",
    "\n",
    "Las variables PQSO y PGal nos dan las probabilidad que estima el satélite de que ese objeto sea en realidad una galaxia lejana o un quásar en lugar de una estrella. Usaremos esta información para eliminar las estrellas con una alta probabilidad de no serlo. En concreto, quitaremos aquellas filas que con una probabilidad mayor que 10% no son estrellas."
   ]
  },
  {
   "cell_type": "code",
   "execution_count": 27,
   "metadata": {},
   "outputs": [
    {
     "data": {
      "text/plain": [
       "(874843, 100)"
      ]
     },
     "execution_count": 27,
     "metadata": {},
     "output_type": "execute_result"
    }
   ],
   "source": [
    "# Drop 'PQSO'> 0.05 rows\n",
    "stars_df_clean = stars_df_clean[stars_df_clean['PQSO'] <= 0.1]\n",
    "\n",
    "# Drop 'PGal' > 0.05\n",
    "stars_df_clean = stars_df_clean[stars_df_clean['PGal'] <= 0.1]\n",
    "\n",
    "stars_df_clean.shape"
   ]
  },
  {
   "cell_type": "markdown",
   "metadata": {},
   "source": [
    "### 3.4 Tratamiento de valores nulos\n",
    "Vamos a hacer una exploración para ver donde tenemos valores nulos:"
   ]
  },
  {
   "cell_type": "code",
   "execution_count": 28,
   "metadata": {},
   "outputs": [
    {
     "data": {
      "text/plain": [
       "col1             0\n",
       "_Glon            0\n",
       "_Glat            0\n",
       "_RAJ2000         0\n",
       "_DEJ2000         0\n",
       "             ...  \n",
       "E(BP-RP)    587949\n",
       "angDist          0\n",
       "X            73629\n",
       "Y            73629\n",
       "Z            73629\n",
       "Length: 100, dtype: int64"
      ]
     },
     "execution_count": 28,
     "metadata": {},
     "output_type": "execute_result"
    }
   ],
   "source": [
    "null_counts = stars_df_clean.isna().sum()\n",
    "null_counts"
   ]
  },
  {
   "cell_type": "markdown",
   "metadata": {},
   "source": [
    "#### 3.4.1 Distancia y paralaje\n",
    "Si la estrella tiene Plx no nulo, entonces podemos calcular Dist como:\n",
    "\n",
    "Dist = 1000/abs(Plx)"
   ]
  },
  {
   "cell_type": "code",
   "execution_count": 29,
   "metadata": {},
   "outputs": [],
   "source": [
    "stars_df_clean.loc[stars_df_clean['Dist'].isna(), 'Dist'] = 1000 / stars_df_clean['Plx'].abs()"
   ]
  },
  {
   "cell_type": "markdown",
   "metadata": {},
   "source": [
    "Algunos de los valores nulos que tenemos podemos sustituirlos por los valores generales para los cúmulos que tenemos en ClustersInfo_clean. \n",
    "\n",
    "Vamos a darles el valor por defecto del cluster a las estrellas que no tienen su dato propio de la siguiente forma:\n",
    "| Columna en STARSSample | Columna en ClusterInfo_clean |\n",
    "|------------------------|-----------------------------|\n",
    "| Cluster                | Cluster                     |\n",
    "| RV                     | RV                          |\n",
    "| Plx                    | Plx                         |\n",
    "| pmRA                   | pmRA                        |\n",
    "| pmDE                   | pmDE                        |\n",
    "| Dist                   | 1000/abs(Plx)               |"
   ]
  },
  {
   "cell_type": "code",
   "execution_count": 30,
   "metadata": {},
   "outputs": [],
   "source": [
    "clusters_info_clean = pd.read_csv('../Samples/Clean/ClustersInfo_clean.csv')"
   ]
  },
  {
   "cell_type": "code",
   "execution_count": 31,
   "metadata": {},
   "outputs": [
    {
     "data": {
      "text/plain": [
       "(874843, 100)"
      ]
     },
     "execution_count": 31,
     "metadata": {},
     "output_type": "execute_result"
    }
   ],
   "source": [
    "stars_df_clean.shape"
   ]
  },
  {
   "cell_type": "code",
   "execution_count": 32,
   "metadata": {},
   "outputs": [],
   "source": [
    "# Merge STARTSSample and ClustersInfo_clean by 'Cluster' column\n",
    "merged_df = pd.merge(stars_df_clean,clusters_info_clean, on='Cluster', suffixes=('_stars','_clusters'), how='left', validate='many_to_one')\n",
    "\n",
    "# Fill null valores in each columna by the corresponding value in ClustersInfo\n",
    "columns_to_fill = ['RV', 'Plx', 'pmRA', 'pmDE', 'Dist']\n",
    "for column in columns_to_fill:\n",
    "    merged_df[column + '_stars'].fillna(merged_df[column + '_clusters'])\n",
    "\n",
    "# Delete ClustersInfo columns\n",
    "merged_df = merged_df.drop(columns=[col + '_clusters' for col in columns_to_fill])\n",
    "\n",
    "# Rename STARSSample columns to eliminarte the suffix\n",
    "merged_df.rename(columns={col + '_stars': col for col in columns_to_fill}, inplace=True)\n",
    "\n",
    "# Refilled\n",
    "stars_df_clean = merged_df"
   ]
  },
  {
   "cell_type": "code",
   "execution_count": 33,
   "metadata": {},
   "outputs": [
    {
     "data": {
      "text/plain": [
       "(874843, 101)"
      ]
     },
     "execution_count": 33,
     "metadata": {},
     "output_type": "execute_result"
    }
   ],
   "source": [
    "stars_df_clean.shape"
   ]
  },
  {
   "cell_type": "markdown",
   "metadata": {},
   "source": [
    "La estrellas que quedan sin medidade paralaje se eliminan del dataset, pues ya no tenemos otras formas de obtener este dato. \n",
    "\n",
    "Una sustitución por alguna métrica estadística introducirá errores en el modelo, ya que a partir del paralaje se obtiene la distancia, que será clave para determinar si una estrella pertenece o no a un cúmulo. Como no son muchas en porporción al total de filas, las eliminamos."
   ]
  },
  {
   "cell_type": "code",
   "execution_count": 34,
   "metadata": {},
   "outputs": [
    {
     "data": {
      "text/plain": [
       "(801214, 101)"
      ]
     },
     "execution_count": 34,
     "metadata": {},
     "output_type": "execute_result"
    }
   ],
   "source": [
    "stars_df_clean = stars_df_clean.dropna(subset=['Plx'])\n",
    "stars_df_clean.shape"
   ]
  },
  {
   "cell_type": "markdown",
   "metadata": {},
   "source": [
    "#### 3.4.2 Extinción y enrojecimiento\n",
    "Vamos a igualar a 0 las columnas: A0, AG y E(BP-RP), si son nulas. Esto significa que consideraremos que entre la Tierra y esas estrellas el medio interestelar es transparente.Es decir, que no hay polvo ni gas que absorba parte de la luz de la estrella ni la enrrojezca. \n",
    "\n",
    "Es un abordaje habitual en astrofísica cuando no se dispone de estos datos.\n"
   ]
  },
  {
   "cell_type": "code",
   "execution_count": 35,
   "metadata": {},
   "outputs": [
    {
     "data": {
      "text/plain": [
       "(801214, 101)"
      ]
     },
     "execution_count": 35,
     "metadata": {},
     "output_type": "execute_result"
    }
   ],
   "source": [
    "stars_df_clean.loc[:, 'A0'] = stars_df_clean['A0'].fillna(0)\n",
    "stars_df_clean.loc[:, 'AG'] = stars_df_clean['AG'].fillna(0)\n",
    "stars_df_clean.loc[:, 'E(BP-RP)'] = stars_df_clean['E(BP-RP)'].fillna(0)\n",
    "stars_df_clean.shape"
   ]
  },
  {
   "cell_type": "markdown",
   "metadata": {},
   "source": [
    "#### 3.4.3 Nulos derivados\n",
    "Comprobamos ahora cuales son las columnas con más de un 50% de valores nulos."
   ]
  },
  {
   "cell_type": "code",
   "execution_count": 36,
   "metadata": {},
   "outputs": [
    {
     "data": {
      "text/plain": [
       "pscol            53.072088\n",
       "e_pscol          53.072088\n",
       "RApscolCorr      53.072088\n",
       "DEpscolCorr      53.072088\n",
       "PlxpscolCorr     53.072088\n",
       "pmRApscolCorr    53.072088\n",
       "pmDEpscolCorr    53.072088\n",
       "RV               97.416296\n",
       "e_RV             97.416296\n",
       "o_RV             97.416296\n",
       "o_RVd            97.416296\n",
       "RVNper           97.416296\n",
       "RVS/N            97.416296\n",
       "RVtempTeff       97.416296\n",
       "RVtemplogg       97.416296\n",
       "RVtemp[Fe/H]     97.416296\n",
       "Vatmparam        97.416296\n",
       "vbroad           99.646536\n",
       "e_Vbroad         99.646536\n",
       "o_Vbroad         99.646536\n",
       "GRVSmag          97.525879\n",
       "e_GRVSmag        97.525879\n",
       "o_GRVSmag        97.525879\n",
       "RVSS/N           99.825889\n",
       "Teff             64.192588\n",
       "logg             64.192588\n",
       "[Fe/H]           64.192588\n",
       "dtype: float64"
      ]
     },
     "execution_count": 36,
     "metadata": {},
     "output_type": "execute_result"
    }
   ],
   "source": [
    "cols_50pc_nulls = nulls_columns(stars_df_clean, 50)\n",
    "cols_50pc_nulls "
   ]
  },
  {
   "cell_type": "markdown",
   "metadata": {},
   "source": [
    "Vemos que muchas de las columnas con nullos realmente provienen de que son columnas calculadas a partir de una de origen nulo. Esto ocurre con:\n",
    "- e_RV, o_RV,o_RVd, RVper,RVS/N, RVtempTeff, RVtemlogg,RVtemp[FE/H] y Vatmparam, que provienen de nulos en RV\n",
    "- e_Vbroad, o_Vbroad, que provienen de nulos en vbroad\n",
    "- e_GRVSmag, o_GRVSmag, que provienen de nulos en GRVSmag\n",
    "- Teff y logg, provienen de nulos en [Fe/H]\n",
    "- e_pscol, RApscolCorr, DEpscolCorr, PlxpscolCorr, pmRApscolCorr, pmDEpscolCorr, que provienen de nulos en pscol \n",
    "\n",
    "De esta columnas, no tenemos cómo obtener más información y, tal y como hemos explicado antes, una sustitución por métricas estadísticas no sería apropiada. Como, en nuestra experiencia noson columas muy importantes, las eliminamos:"
   ]
  },
  {
   "cell_type": "code",
   "execution_count": 37,
   "metadata": {},
   "outputs": [
    {
     "data": {
      "text/plain": [
       "(801214, 74)"
      ]
     },
     "execution_count": 37,
     "metadata": {},
     "output_type": "execute_result"
    }
   ],
   "source": [
    "stars_df_clean = stars_df_clean.drop(columns=cols_50pc_nulls .keys())\n",
    "stars_df_clean.shape"
   ]
  },
  {
   "cell_type": "code",
   "execution_count": 38,
   "metadata": {},
   "outputs": [
    {
     "data": {
      "text/plain": [
       "col1             0\n",
       "_Glon            0\n",
       "_Glat            0\n",
       "_RAJ2000         0\n",
       "_DEJ2000         0\n",
       "              ... \n",
       "angDist          0\n",
       "X                0\n",
       "Y                0\n",
       "Z                0\n",
       "Unnamed: 0    1782\n",
       "Length: 74, dtype: int64"
      ]
     },
     "execution_count": 38,
     "metadata": {},
     "output_type": "execute_result"
    }
   ],
   "source": [
    "null_counts = stars_df_clean.isna().sum()\n",
    "null_counts"
   ]
  },
  {
   "cell_type": "markdown",
   "metadata": {},
   "source": [
    "Queda algunos valores nulos que también son derivados:\n",
    "- e_FG, RFG, Gmag, e_Gmag, que provienen de nulos en FG\n",
    "- e_FBP, RFBP, BPmag, e_BPmag, NBPcont, NBPblend, que provienen de nulos en FBP\n",
    "- e_FRP, RFRP, RPmag, e_RPmag, NRPcont, NRPblend, que provienen de nulos en FRP\n",
    "- E(BP/RP), que proviene de nulos en BP-RP\n",
    "\n",
    "Estas columnas sin embargo sí son importantes, por lo que no podemos eliminarlas. Lo que sí podemos hacer es, teniendo en cuenta el pequeño porcentaje que representan respecto al total de filas, eliminar las filas. De nuevo, una sustitución por métricas estadísticas no sería adecuada."
   ]
  },
  {
   "cell_type": "code",
   "execution_count": 39,
   "metadata": {},
   "outputs": [
    {
     "data": {
      "text/plain": [
       "(788304, 73)"
      ]
     },
     "execution_count": 39,
     "metadata": {},
     "output_type": "execute_result"
    }
   ],
   "source": [
    "stars_df_clean = stars_df_clean.dropna(subset=['FG'])\n",
    "stars_df_clean = stars_df_clean.dropna(subset=['FBP'])\n",
    "stars_df_clean = stars_df_clean.dropna(subset=['FRP'])\n",
    "stars_df_clean = stars_df_clean.dropna(subset=['BP-RP'])\n",
    "stars_df_clean = stars_df_clean.drop(columns=['Unnamed: 0'])\n",
    "stars_df_clean.shape"
   ]
  },
  {
   "cell_type": "code",
   "execution_count": 40,
   "metadata": {},
   "outputs": [
    {
     "data": {
      "text/plain": [
       "col1        0\n",
       "_Glon       0\n",
       "_Glat       0\n",
       "_RAJ2000    0\n",
       "_DEJ2000    0\n",
       "           ..\n",
       "E(BP-RP)    0\n",
       "angDist     0\n",
       "X           0\n",
       "Y           0\n",
       "Z           0\n",
       "Length: 73, dtype: int64"
      ]
     },
     "execution_count": 40,
     "metadata": {},
     "output_type": "execute_result"
    }
   ],
   "source": [
    "null_counts = stars_df_clean.isna().sum()\n",
    "null_counts"
   ]
  },
  {
   "cell_type": "markdown",
   "metadata": {},
   "source": [
    "Ya hemos limpiado el dataset de valores nulos"
   ]
  },
  {
   "cell_type": "markdown",
   "metadata": {},
   "source": [
    "### 3.5 Eliminación de cúmulos con miembros insuficientes\n",
    "Tras haber limpiado el dataset, puede que tengas cúmulos con un número insuficiente de estrellas como para obtener un buen rendimiento del modelo. Por ello eliminaremos definitivamente los cúmulos que se hayan quedado con menos de 20 miembros."
   ]
  },
  {
   "cell_type": "code",
   "execution_count": 41,
   "metadata": {},
   "outputs": [
    {
     "name": "stdout",
     "output_type": "stream",
     "text": [
      "['NGC2682' 'NGC4147' 'NGC5466' 'NGC6791' 'NGC6811' 'NGC6819' 'NGC7789'\n",
      " 'Pleiades' 'Teutsch51' 'NGC869' 'NGC1662' 'Basel11B' 'NGC1528' 'NGC2252'\n",
      " 'Basel4' 'NGC1960' 'NGC6205' 'Waterloo2' 'NGC5272' 'Berkeley71'\n",
      " 'Berkeley32' 'Berkeley17' 'Berkeley29' 'Berkeley53' 'Berkeley66' 'IC166'\n",
      " 'King5' 'King7' 'M107' 'M13' 'M15' 'M2' 'M3' 'M35' 'M5' 'NGC2099'\n",
      " 'NGC1746' 'NGC1039' 'NGC1647' 'NGC2183' 'NGC1912' 'NGC2281' 'NGC2420'\n",
      " 'NGC2158' 'NGC2808' 'NGC6266' 'NGC2532' 'IC2395' 'NGC752' 'Mel25'\n",
      " 'NGC2632' 'NGC2168' 'NGC884' 'NGC1851' 'NGC1904' 'NGC0104' 'M53' 'M67'\n",
      " 'M71' 'M92' 'NGC1245' 'NGC1798' 'NGC188' 'NGC2243' 'NGC0362' 'NGC5139'\n",
      " 'NGC3201' 'NGC5286' 'NGC5904' 'NGC6218' 'NGC6093' 'NGC6388' 'NGC6522'\n",
      " 'NGC6254' 'NGC6293' 'NGC6441' 'NGC6541' 'NGC6624' 'NGC7078' 'NGC6656'\n",
      " 'NGC6681' 'NGC6752' 'NGC7089' 'NGC1261' 'NGC7099' 'Berkeley86' 'IC1805'\n",
      " 'IC2944' 'NGC457' 'NGC1502' 'NGC2244' 'NGC2362' 'NGC2384' 'NGC2422'\n",
      " 'NGC2467' 'NGC3293' 'NGC4755' 'NGC6193' 'NGC7160' 'Trumpler14'\n",
      " 'Trumpler16' 'NGC6139' 'NGC6362' 'NGC6397' 'NGC6712' 'Pal13']\n",
      "106\n"
     ]
    }
   ],
   "source": [
    "stars_df_clean['Cluster'] = stars_df_clean['Cluster'].str.strip()\n",
    "print(stars_df_clean['Cluster'].unique())\n",
    "print(len(stars_df_clean['Cluster'].unique()))"
   ]
  },
  {
   "cell_type": "code",
   "execution_count": 42,
   "metadata": {},
   "outputs": [
    {
     "data": {
      "text/html": [
       "<div>\n",
       "<style scoped>\n",
       "    .dataframe tbody tr th:only-of-type {\n",
       "        vertical-align: middle;\n",
       "    }\n",
       "\n",
       "    .dataframe tbody tr th {\n",
       "        vertical-align: top;\n",
       "    }\n",
       "\n",
       "    .dataframe thead th {\n",
       "        text-align: right;\n",
       "    }\n",
       "</style>\n",
       "<table border=\"1\" class=\"dataframe\">\n",
       "  <thead>\n",
       "    <tr style=\"text-align: right;\">\n",
       "      <th></th>\n",
       "      <th>Cluster</th>\n",
       "      <th>Counts</th>\n",
       "    </tr>\n",
       "  </thead>\n",
       "  <tbody>\n",
       "    <tr>\n",
       "      <th>47</th>\n",
       "      <td>NGC2243</td>\n",
       "      <td>1</td>\n",
       "    </tr>\n",
       "    <tr>\n",
       "      <th>20</th>\n",
       "      <td>M35</td>\n",
       "      <td>1</td>\n",
       "    </tr>\n",
       "    <tr>\n",
       "      <th>103</th>\n",
       "      <td>Trumpler14</td>\n",
       "      <td>3</td>\n",
       "    </tr>\n",
       "    <tr>\n",
       "      <th>62</th>\n",
       "      <td>NGC4147</td>\n",
       "      <td>3</td>\n",
       "    </tr>\n",
       "    <tr>\n",
       "      <th>26</th>\n",
       "      <td>Mel25</td>\n",
       "      <td>4</td>\n",
       "    </tr>\n",
       "    <tr>\n",
       "      <th>...</th>\n",
       "      <td>...</td>\n",
       "      <td>...</td>\n",
       "    </tr>\n",
       "    <tr>\n",
       "      <th>87</th>\n",
       "      <td>NGC6712</td>\n",
       "      <td>34892</td>\n",
       "    </tr>\n",
       "    <tr>\n",
       "      <th>78</th>\n",
       "      <td>NGC6362</td>\n",
       "      <td>40229</td>\n",
       "    </tr>\n",
       "    <tr>\n",
       "      <th>71</th>\n",
       "      <td>NGC6139</td>\n",
       "      <td>52610</td>\n",
       "    </tr>\n",
       "    <tr>\n",
       "      <th>60</th>\n",
       "      <td>NGC3201</td>\n",
       "      <td>203335</td>\n",
       "    </tr>\n",
       "    <tr>\n",
       "      <th>80</th>\n",
       "      <td>NGC6397</td>\n",
       "      <td>406776</td>\n",
       "    </tr>\n",
       "  </tbody>\n",
       "</table>\n",
       "<p>106 rows × 2 columns</p>\n",
       "</div>"
      ],
      "text/plain": [
       "        Cluster  Counts\n",
       "47      NGC2243       1\n",
       "20          M35       1\n",
       "103  Trumpler14       3\n",
       "62      NGC4147       3\n",
       "26        Mel25       4\n",
       "..          ...     ...\n",
       "87      NGC6712   34892\n",
       "78      NGC6362   40229\n",
       "71      NGC6139   52610\n",
       "60      NGC3201  203335\n",
       "80      NGC6397  406776\n",
       "\n",
       "[106 rows x 2 columns]"
      ]
     },
     "execution_count": 42,
     "metadata": {},
     "output_type": "execute_result"
    }
   ],
   "source": [
    "group_counts = stars_df_clean.groupby('Cluster').size().reset_index(name='Counts').sort_values(by='Counts')\n",
    "group_counts"
   ]
  },
  {
   "cell_type": "code",
   "execution_count": 43,
   "metadata": {},
   "outputs": [
    {
     "data": {
      "text/plain": [
       "(788108, 73)"
      ]
     },
     "execution_count": 43,
     "metadata": {},
     "output_type": "execute_result"
    }
   ],
   "source": [
    "groups_with_less_than_20 = group_counts[group_counts['Counts'] < 20]['Cluster'].tolist()\n",
    "stars_df_clean = stars_df_clean[~stars_df_clean['Cluster'].isin(groups_with_less_than_20)]\n",
    "stars_df_clean.shape"
   ]
  },
  {
   "cell_type": "markdown",
   "metadata": {},
   "source": [
    "## 4. Inclusión de nuevas columnas\n",
    "Creamos nuevas columnas calculadas a partir de las columnas existentes y que serán variables importantes en la clusterización:\n",
    "- MG: magnitud absoluta, que da cuenta del brillo intrínseco de una estrella independientemente de su distancia\n",
    "- B-R: color, que da cuenta del color intrínseco de una estrella corregido del efecto del medio interestelar. Esta variable estará relacionada con su temperatura, y por tanto con su masa, cualidad que las estrellas del cúmulo tendrán en común."
   ]
  },
  {
   "cell_type": "code",
   "execution_count": 44,
   "metadata": {},
   "outputs": [],
   "source": [
    "#MG=5-5*log(1000/Plx)-AG+Gmag\n",
    "epsilon = 1e-10\n",
    "positive_plx = np.abs(stars_df_clean['Plx']) + epsilon\n",
    "\n",
    "# Calcular 'MG' asegurándose de no tener división por cero\n",
    "stars_df_clean['MG'] = 5 * np.log10(1000 / positive_plx) - stars_df_clean['AG'] + stars_df_clean['Gmag']\n",
    "#(B-R)=(BP-RP)-E(BP-RP)\n",
    "stars_df_clean['B-R'] = stars_df_clean['BP-RP']-stars_df_clean['E(BP-RP)']"
   ]
  },
  {
   "cell_type": "code",
   "execution_count": 45,
   "metadata": {},
   "outputs": [],
   "source": [
    "stars_df_clean.to_csv('../Samples/Clean/STARTSSample_EDA1.csv')"
   ]
  },
  {
   "cell_type": "markdown",
   "metadata": {},
   "source": [
    "## 5 Factorización de variables categóricas y target\n",
    "Se factorizan las variables categóricas y se guarda la tabla de equivalencia."
   ]
  },
  {
   "cell_type": "code",
   "execution_count": 46,
   "metadata": {},
   "outputs": [
    {
     "name": "stdout",
     "output_type": "stream",
     "text": [
      "Rows: 788108\n",
      "Columns: 75\n",
      "+-------------+----------------+------------+-----------+---------------+\n",
      "|             | Non-Null Count | Null Count | Data Type | Data Category |\n",
      "+-------------+----------------+------------+-----------+---------------+\n",
      "|    col1     |     788108     |     0      |   int64   |   Numerical   |\n",
      "|    _Glon    |     788108     |     0      |  float64  |   Numerical   |\n",
      "|    _Glat    |     788108     |     0      |  float64  |   Numerical   |\n",
      "|  _RAJ2000   |     788108     |     0      |  float64  |   Numerical   |\n",
      "|  _DEJ2000   |     788108     |     0      |  float64  |   Numerical   |\n",
      "|   Cluster   |     788108     |     0      |  object   |  Categorical  |\n",
      "|   e_RAdeg   |     788108     |     0      |  float64  |   Numerical   |\n",
      "|   e_DEdeg   |     788108     |     0      |  float64  |   Numerical   |\n",
      "|     Plx     |     788108     |     0      |  float64  |   Numerical   |\n",
      "|    e_Plx    |     788108     |     0      |  float64  |   Numerical   |\n",
      "|    RPlx     |     788108     |     0      |  float64  |   Numerical   |\n",
      "|     PM      |     788108     |     0      |  float64  |   Numerical   |\n",
      "|    pmRA     |     788108     |     0      |  float64  |   Numerical   |\n",
      "|   e_pmRA    |     788108     |     0      |  float64  |   Numerical   |\n",
      "|    pmDE     |     788108     |     0      |  float64  |   Numerical   |\n",
      "|   e_pmDE    |     788108     |     0      |  float64  |   Numerical   |\n",
      "|   RADEcor   |     788108     |     0      |  float64  |   Numerical   |\n",
      "|  RAPlxcor   |     788108     |     0      |  float64  |   Numerical   |\n",
      "|  RApmRAcor  |     788108     |     0      |  float64  |   Numerical   |\n",
      "|  RApmDEcor  |     788108     |     0      |  float64  |   Numerical   |\n",
      "|  DEPlxcor   |     788108     |     0      |  float64  |   Numerical   |\n",
      "|  DEpmRAcor  |     788108     |     0      |  float64  |   Numerical   |\n",
      "|  DEpmDEcor  |     788108     |     0      |  float64  |   Numerical   |\n",
      "| PlxpmRAcor  |     788108     |     0      |  float64  |   Numerical   |\n",
      "| PlxpmDEcor  |     788108     |     0      |  float64  |   Numerical   |\n",
      "| pmRApmDEcor |     788108     |     0      |  float64  |   Numerical   |\n",
      "|     NAL     |     788108     |     0      |   int64   |   Numerical   |\n",
      "|     NAC     |     788108     |     0      |   int64   |   Numerical   |\n",
      "|    NgAL     |     788108     |     0      |   int64   |   Numerical   |\n",
      "|    NbAL     |     788108     |     0      |   int64   |   Numerical   |\n",
      "|    epsi     |     788108     |     0      |  float64  |   Numerical   |\n",
      "|    sepsi    |     788108     |     0      |  float64  |   Numerical   |\n",
      "|    Nper     |     788108     |     0      |   int64   |   Numerical   |\n",
      "|    amax     |     788108     |     0      |  float64  |   Numerical   |\n",
      "|  MatchObs   |     788108     |     0      |   int64   |   Numerical   |\n",
      "|    RUWE     |     788108     |     0      |  float64  |   Numerical   |\n",
      "|   o_Gmag    |     788108     |     0      |   int64   |   Numerical   |\n",
      "|     FG      |     788108     |     0      |  float64  |   Numerical   |\n",
      "|    e_FG     |     788108     |     0      |  float64  |   Numerical   |\n",
      "|     RFG     |     788108     |     0      |  float64  |   Numerical   |\n",
      "|    Gmag     |     788108     |     0      |  float64  |   Numerical   |\n",
      "|   e_Gmag    |     788108     |     0      |  float64  |   Numerical   |\n",
      "|   o_BPmag   |     788108     |     0      |   int64   |   Numerical   |\n",
      "|     FBP     |     788108     |     0      |  float64  |   Numerical   |\n",
      "|    e_FBP    |     788108     |     0      |  float64  |   Numerical   |\n",
      "|    RFBP     |     788108     |     0      |  float64  |   Numerical   |\n",
      "|    BPmag    |     788108     |     0      |  float64  |   Numerical   |\n",
      "|   e_BPmag   |     788108     |     0      |  float64  |   Numerical   |\n",
      "|   o_RPmag   |     788108     |     0      |   int64   |   Numerical   |\n",
      "|     FRP     |     788108     |     0      |  float64  |   Numerical   |\n",
      "|    e_FRP    |     788108     |     0      |  float64  |   Numerical   |\n",
      "|    RFRP     |     788108     |     0      |  float64  |   Numerical   |\n",
      "|    RPmag    |     788108     |     0      |  float64  |   Numerical   |\n",
      "|   e_RPmag   |     788108     |     0      |  float64  |   Numerical   |\n",
      "|  E(BP/RP)   |     788108     |     0      |  float64  |   Numerical   |\n",
      "|   NBPcont   |     788108     |     0      |  float64  |   Numerical   |\n",
      "|  NBPblend   |     788108     |     0      |  float64  |   Numerical   |\n",
      "|   NRPcont   |     788108     |     0      |  float64  |   Numerical   |\n",
      "|  NRPblend   |     788108     |     0      |  float64  |   Numerical   |\n",
      "|    BP-RP    |     788108     |     0      |  float64  |   Numerical   |\n",
      "|    BP-G     |     788108     |     0      |  float64  |   Numerical   |\n",
      "|    G-RP     |     788108     |     0      |  float64  |   Numerical   |\n",
      "|    PQSO     |     788108     |     0      |  float64  |   Numerical   |\n",
      "|    PGal     |     788108     |     0      |  float64  |   Numerical   |\n",
      "|     PSS     |     788108     |     0      |  float64  |   Numerical   |\n",
      "|    Dist     |     788108     |     0      |  float64  |   Numerical   |\n",
      "|     A0      |     788108     |     0      |  float64  |   Numerical   |\n",
      "|     AG      |     788108     |     0      |  float64  |   Numerical   |\n",
      "|  E(BP-RP)   |     788108     |     0      |  float64  |   Numerical   |\n",
      "|   angDist   |     788108     |     0      |  float64  |   Numerical   |\n",
      "|      X      |     788108     |     0      |  float64  |   Numerical   |\n",
      "|      Y      |     788108     |     0      |  float64  |   Numerical   |\n",
      "|      Z      |     788108     |     0      |  float64  |   Numerical   |\n",
      "|     MG      |     788108     |     0      |  float64  |   Numerical   |\n",
      "|     B-R     |     788108     |     0      |  float64  |   Numerical   |\n",
      "+-------------+----------------+------------+-----------+---------------+\n",
      "Do it\n"
     ]
    }
   ],
   "source": [
    "cat, num = EDA.explore(stars_df_clean)\n",
    "print('Do it')"
   ]
  },
  {
   "cell_type": "code",
   "execution_count": 47,
   "metadata": {},
   "outputs": [],
   "source": [
    "stars_fz = EDA.factorize_categorical(stars_df_clean,cat)\n",
    "stars_fz.to_csv('../Samples/Clean/STARTSSample_EDA1_fz.csv')"
   ]
  },
  {
   "cell_type": "markdown",
   "metadata": {},
   "source": [
    "## 6 División por clusters\n",
    "Ya que cda cúmulo tendrá unas características diferentes al resto, la búsqueda de outliers no tiene sentido hacerla de forma general, sino que debe hacerse teniendo en cuenta las estrellas de cda cúmulo esclusivamente. Para facilitar el proceso, dividiremos STARSSample en un dataset por cada cúmulo."
   ]
  },
  {
   "cell_type": "code",
   "execution_count": 48,
   "metadata": {},
   "outputs": [],
   "source": [
    "split_clusters(stars_fz)"
   ]
  },
  {
   "cell_type": "code",
   "execution_count": 49,
   "metadata": {},
   "outputs": [
    {
     "name": "stdout",
     "output_type": "stream",
     "text": [
      "['NGC2682' 'NGC6791' 'NGC6811' 'NGC6819' 'NGC7789' 'Pleiades' 'NGC869'\n",
      " 'NGC1662' 'Basel11B' 'NGC1528' 'NGC2252' 'Basel4' 'NGC1960' 'NGC6205'\n",
      " 'Waterloo2' 'Berkeley71' 'Berkeley53' 'IC166' 'King5' 'King7' 'M107'\n",
      " 'M13' 'M15' 'M2' 'M3' 'M5' 'NGC2099' 'NGC1746' 'NGC1039' 'NGC1647'\n",
      " 'NGC2183' 'NGC1912' 'NGC2281' 'NGC2420' 'NGC2158' 'NGC2808' 'NGC6266'\n",
      " 'NGC2532' 'IC2395' 'NGC752' 'NGC2632' 'NGC2168' 'NGC884' 'NGC1851'\n",
      " 'NGC1904' 'NGC0104' 'M53' 'M67' 'M71' 'M92' 'NGC1245' 'NGC1798' 'NGC188'\n",
      " 'NGC0362' 'NGC5139' 'NGC3201' 'NGC5286' 'NGC5904' 'NGC6218' 'NGC6093'\n",
      " 'NGC6388' 'NGC6522' 'NGC6254' 'NGC6293' 'NGC6441' 'NGC6541' 'NGC6624'\n",
      " 'NGC7078' 'NGC6656' 'NGC6681' 'NGC6752' 'NGC7089' 'NGC1261' 'NGC7099'\n",
      " 'IC1805' 'IC2944' 'NGC2244' 'NGC2362' 'NGC3293' 'NGC4755' 'NGC6193'\n",
      " 'Trumpler16' 'NGC6139' 'NGC6362' 'NGC6397' 'NGC6712' 'Pal13']\n",
      "87\n"
     ]
    }
   ],
   "source": [
    "print(stars_fz['Cluster_O'].unique())\n",
    "print(len(stars_fz['Cluster_O'].unique()))"
   ]
  },
  {
   "cell_type": "markdown",
   "metadata": {},
   "source": [
    "Ahora nos dividiremos en número de cumulos entre los tres para hacer el tratamiento de outliers en cada cúmulo. Una vez tengamos un dataset limpio de outliers de cada cúmulo, los concatenaremos para construir el dataset final.\n",
    "\n",
    "- Rubén: NGC2682' 'NGC6791' 'NGC6811' 'NGC6819' 'NGC7789' 'Pleiades' 'NGC869'\n",
    " 'NGC1662' 'Basel11B' 'NGC1528' 'NGC2252' 'Basel4' 'NGC1960' 'NGC6205'\n",
    " 'Waterloo2' 'Berkeley71' 'Berkeley53' 'IC166' 'King5' 'King7' 'M107'\n",
    " 'M13' 'M15' 'M2' 'M3' 'M5' 'NGC2099' 'NGC1746' 'NGC1039'\n",
    "- Silvia: 'NGC1647' 'NGC2183' 'NGC1912' 'NGC2281' 'NGC2420' 'NGC2158' 'NGC2808' 'NGC6266'\n",
    " 'NGC2532' 'IC2395' 'NGC752' 'NGC2632' 'NGC2168' 'NGC884' 'NGC1851'\n",
    " 'NGC1904' 'NGC0104' 'M53' 'M67' 'M71' 'M92' 'NGC1245' 'NGC1798' 'NGC188'\n",
    " 'NGC0362' 'NGC5139' 'NGC3201' 'NGC5286' 'NGC5904'\n",
    "- Tatiana: 'NGC6218' 'NGC6093' 'NGC6388' 'NGC6522' 'NGC6254' 'NGC6293' 'NGC6441' 'NGC6541' 'NGC6624'\n",
    " 'NGC7078' 'NGC6656' 'NGC6681' 'NGC6752' 'NGC7089' 'NGC1261' 'NGC7099'\n",
    " 'IC1805' 'IC2944' 'NGC2244' 'NGC2362' 'NGC3293' 'NGC4755' 'NGC6193'\n",
    " 'Trumpler16' 'NGC6139' 'NGC6362' 'NGC6397' 'NGC6712' 'Pal13'"
   ]
  },
  {
   "cell_type": "markdown",
   "metadata": {},
   "source": []
  }
 ],
 "metadata": {
  "kernelspec": {
   "display_name": "Python 3",
   "language": "python",
   "name": "python3"
  },
  "language_info": {
   "codemirror_mode": {
    "name": "ipython",
    "version": 3
   },
   "file_extension": ".py",
   "mimetype": "text/x-python",
   "name": "python",
   "nbconvert_exporter": "python",
   "pygments_lexer": "ipython3",
   "version": "3.10.12"
  }
 },
 "nbformat": 4,
 "nbformat_minor": 2
}
