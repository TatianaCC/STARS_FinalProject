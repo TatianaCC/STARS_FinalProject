{
 "cells": [
  {
   "cell_type": "markdown",
   "metadata": {},
   "source": [
    "# Coherencia de clusters\n",
    "\n",
    "Tras haber descubierto las posibles estructuras en nuestro conjunto de datos, vamos a pasar por un modelo de clasificación supervisada para comprobar la coherencia de los clusters encontrados. Nos decantamos por un Random Forest."
   ]
  },
  {
   "cell_type": "code",
   "execution_count": 1,
   "metadata": {},
   "outputs": [],
   "source": [
    "import pandas as pd"
   ]
  },
  {
   "cell_type": "code",
   "execution_count": 3,
   "metadata": {},
   "outputs": [],
   "source": [
    "X_train = pd.read_csv('../../Samples/Clean/Feature_Selection/X_train.csv')\n",
    "X_test = pd.read_csv('../../Samples/Clean/Feature_Selection/X_test.csv')\n",
    "y_train = pd.read_csv('../../Samples/Clean/Feature_Selection/Y_train.csv')\n",
    "y_test = pd.read_csv('../../Samples/Clean/Feature_Selection/Y_test.csv')"
   ]
  },
  {
   "cell_type": "code",
   "execution_count": null,
   "metadata": {},
   "outputs": [],
   "source": []
  }
 ],
 "metadata": {
  "kernelspec": {
   "display_name": "Python 3",
   "language": "python",
   "name": "python3"
  },
  "language_info": {
   "codemirror_mode": {
    "name": "ipython",
    "version": 3
   },
   "file_extension": ".py",
   "mimetype": "text/x-python",
   "name": "python",
   "nbconvert_exporter": "python",
   "pygments_lexer": "ipython3",
   "version": "3.10.12"
  }
 },
 "nbformat": 4,
 "nbformat_minor": 2
}
