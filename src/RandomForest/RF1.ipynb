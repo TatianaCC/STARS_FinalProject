{
 "cells": [
  {
   "cell_type": "markdown",
   "metadata": {},
   "source": [
    "# Coherencia de clusters\n",
    "\n",
    "Tras haber descubierto las posibles estructuras en nuestro conjunto de datos, vamos a pasar por un modelo de clasificación supervisada para comprobar la coherencia de los clusters encontrados. Nos decantamos por un Random Forest."
   ]
  },
  {
   "cell_type": "code",
   "execution_count": 4,
   "metadata": {},
   "outputs": [],
   "source": [
    "import pandas as pd\n",
    "import numpy as np\n",
    "from sklearn.model_selection import train_test_split\n",
    "from sklearn.ensemble import RandomForestClassifier\n",
    "from sklearn.model_selection import train_test_split\n",
    "from sklearn.metrics import classification_report, accuracy_score\n",
    "from pickle import dump, load"
   ]
  },
  {
   "cell_type": "code",
   "execution_count": 10,
   "metadata": {},
   "outputs": [],
   "source": [
    "xtest = pd.read_csv('../../Samples/Clean/Feature_Selection/X_test.csv')\n",
    "xtrain = pd.read_csv('../../Samples/Clean/Feature_Selection/X_train.csv')\n",
    "ytest = pd.read_csv('../../Samples/Clean/Feature_Selection/Y_test.csv')\n",
    "ytrain = pd.read_csv('../../Samples/Clean/Feature_Selection/Y_train.csv')"
   ]
  },
  {
   "cell_type": "code",
   "execution_count": 16,
   "metadata": {},
   "outputs": [],
   "source": [
    "df = pd.read_csv('../../Samples/Clean/Testing/HDBSCAN/X_data_with_y_predict.csv')\n",
    "y_hdbscan = df['cluster_hdbscan']\n",
    "x_full = df.drop(columns=['cluster_hdbscan']).copy(deep=True)\n",
    "\n",
    "X_train, X_test, y_train, y_test = train_test_split(x_full, y_hdbscan, test_size=0.2, random_state=42)"
   ]
  },
  {
   "cell_type": "code",
   "execution_count": 17,
   "metadata": {},
   "outputs": [
    {
     "data": {
      "text/plain": [
       "array([ 1,  3,  2,  0, -1])"
      ]
     },
     "execution_count": 17,
     "metadata": {},
     "output_type": "execute_result"
    }
   ],
   "source": [
    "df.cluster_hdbscan.unique()"
   ]
  },
  {
   "cell_type": "code",
   "execution_count": 22,
   "metadata": {},
   "outputs": [
    {
     "name": "stderr",
     "output_type": "stream",
     "text": [
      "/home/taticc/.local/lib/python3.10/site-packages/sklearn/metrics/_classification.py:1509: UndefinedMetricWarning: Precision is ill-defined and being set to 0.0 in labels with no predicted samples. Use `zero_division` parameter to control this behavior.\n",
      "  _warn_prf(average, modifier, f\"{metric.capitalize()} is\", len(result))\n",
      "/home/taticc/.local/lib/python3.10/site-packages/sklearn/metrics/_classification.py:1509: UndefinedMetricWarning: Precision is ill-defined and being set to 0.0 in labels with no predicted samples. Use `zero_division` parameter to control this behavior.\n",
      "  _warn_prf(average, modifier, f\"{metric.capitalize()} is\", len(result))\n",
      "/home/taticc/.local/lib/python3.10/site-packages/sklearn/metrics/_classification.py:1509: UndefinedMetricWarning: Precision is ill-defined and being set to 0.0 in labels with no predicted samples. Use `zero_division` parameter to control this behavior.\n",
      "  _warn_prf(average, modifier, f\"{metric.capitalize()} is\", len(result))\n"
     ]
    },
    {
     "name": "stdout",
     "output_type": "stream",
     "text": [
      "              precision    recall  f1-score   support\n",
      "\n",
      "          -1       0.75      1.00      0.86     86234\n",
      "           0       0.00      0.00      0.00         4\n",
      "           1       0.00      0.00      0.00     28396\n",
      "           2       0.00      0.00      0.00         3\n",
      "           3       0.00      0.00      0.00        48\n",
      "\n",
      "    accuracy                           0.75    114685\n",
      "   macro avg       0.15      0.20      0.17    114685\n",
      "weighted avg       0.57      0.75      0.65    114685\n",
      "\n",
      "Accuracy: 0.7519204778305794\n"
     ]
    }
   ],
   "source": [
    "n_cluster = len(y_hdbscan.unique().tolist())\n",
    "rf = RandomForestClassifier(n_estimators=n_cluster, random_state=42, min_samples_split=300000)\n",
    "rf.fit(X_train, y_train)\n",
    "y_pred_rf = rf.predict(X_test)\n",
    "\n",
    "print(classification_report(y_test, y_pred_rf))\n",
    "print(f\"Accuracy: {accuracy_score(y_test, y_pred_rf)}\")"
   ]
  },
  {
   "cell_type": "code",
   "execution_count": 19,
   "metadata": {},
   "outputs": [
    {
     "name": "stdout",
     "output_type": "stream",
     "text": [
      "Coherencia: 100.00%\n"
     ]
    }
   ],
   "source": [
    "y_pred_full = rf.predict(x_full)\n",
    "coherencia = np.mean(y_pred_full == y_hdbscan)\n",
    "print(f\"Coherencia: {coherencia * 100:.2f}%\")"
   ]
  },
  {
   "cell_type": "code",
   "execution_count": null,
   "metadata": {},
   "outputs": [],
   "source": [
    "df_final = df.copy(deep = True)\n",
    "df_final['cluster_RF'] = y_pred_full"
   ]
  },
  {
   "cell_type": "code",
   "execution_count": null,
   "metadata": {},
   "outputs": [],
   "source": [
    "df_final.to_csv('../../Samples/Clean/Final/STARTSOutput.csv', index=False)\n",
    "dump(rf, open(\"../../Models/RF_nestimtors-\"+str(n_cluster)+\"_criterion-gini_maxdepht-none_minsamplessplit-20_minsamplesleaf-1_minweight-0_maxfeatures-auto_maxleafnodes-none_randomstates-42.pkl\", \"wb\"))"
   ]
  }
 ],
 "metadata": {
  "kernelspec": {
   "display_name": "Python 3",
   "language": "python",
   "name": "python3"
  },
  "language_info": {
   "codemirror_mode": {
    "name": "ipython",
    "version": 3
   },
   "file_extension": ".py",
   "mimetype": "text/x-python",
   "name": "python",
   "nbconvert_exporter": "python",
   "pygments_lexer": "ipython3",
   "version": "3.10.12"
  }
 },
 "nbformat": 4,
 "nbformat_minor": 2
}
